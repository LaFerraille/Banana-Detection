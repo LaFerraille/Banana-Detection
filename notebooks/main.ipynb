{
 "cells": [
  {
   "cell_type": "code",
   "execution_count": 4,
   "metadata": {},
   "outputs": [],
   "source": [
    "# %load_ext autoreload\n",
    "# %autoreload 2\n",
    "\n",
    "# import sys\n",
    "# sys.path.append('..')\n",
    "\n",
    "# from src import get_segmented_image"
   ]
  },
  {
   "cell_type": "code",
   "execution_count": 5,
   "metadata": {},
   "outputs": [],
   "source": [
    "# sigma=1\n",
    "# neighbor=8\n",
    "# K=5.0\n",
    "# min_comp_size=3000\n",
    "# input_file='../img/banana_vehicule.JPG'\n",
    "# output_file='../img/banana_vehicule2.JPG'\n",
    "\n",
    "# get_segmented_image(sigma, neighbor, K, min_comp_size, input_file, output_file)"
   ]
  },
  {
   "cell_type": "code",
   "execution_count": 6,
   "metadata": {},
   "outputs": [],
   "source": [
    "import argparse\n",
    "import logging\n",
    "import time\n",
    "from random import random\n",
    "from PIL import Image, ImageFilter\n",
    "from skimage import io\n",
    "import numpy as np\n",
    "import networkx as nx\n",
    "import matplotlib.pyplot as plt\n"
   ]
  },
  {
   "cell_type": "code",
   "execution_count": 7,
   "metadata": {},
   "outputs": [],
   "source": [
    "class Node:\n",
    "    def __init__(self, parent, rank=0, size=1):\n",
    "        self.parent = parent\n",
    "        self.rank = rank\n",
    "        self.size = size\n",
    "\n",
    "    def __repr__(self):\n",
    "        return '(parent=%s, rank=%s, size=%s)' % (self.parent, self.rank, self.size)"
   ]
  },
  {
   "cell_type": "code",
   "execution_count": 8,
   "metadata": {},
   "outputs": [],
   "source": [
    "class Forest:\n",
    "    def __init__(self, num_nodes):\n",
    "        self.nodes = [Node(i) for i in range(num_nodes)]\n",
    "        self.num_sets = num_nodes\n",
    "\n",
    "    def size_of(self, i):\n",
    "        return self.nodes[i].size\n",
    "\n",
    "    def find(self, n):\n",
    "        temp = n\n",
    "        while temp != self.nodes[temp].parent:\n",
    "            temp = self.nodes[temp].parent\n",
    "\n",
    "        self.nodes[n].parent = temp\n",
    "        return temp\n",
    "\n",
    "    def merge(self, a, b):\n",
    "        if self.nodes[a].rank > self.nodes[b].rank:\n",
    "            self.nodes[b].parent = a\n",
    "            self.nodes[a].size = self.nodes[a].size + self.nodes[b].size\n",
    "        else:\n",
    "            self.nodes[a].parent = b\n",
    "            self.nodes[b].size = self.nodes[b].size + self.nodes[a].size\n",
    "\n",
    "            if self.nodes[a].rank == self.nodes[b].rank:\n",
    "                self.nodes[b].rank = self.nodes[b].rank + 1\n",
    "\n",
    "        self.num_sets = self.num_sets - 1\n",
    "\n",
    "    def print_nodes(self):\n",
    "        for node in self.nodes:\n",
    "            print(node)"
   ]
  },
  {
   "cell_type": "code",
   "execution_count": 9,
   "metadata": {},
   "outputs": [],
   "source": [
    "def create_edge(img, width, x, y, x1, y1, diff):\n",
    "    vertex_id = lambda x, y: y * width + x\n",
    "    w = diff(img, x, y, x1, y1)\n",
    "    return (vertex_id(x, y), vertex_id(x1, y1), w)"
   ]
  },
  {
   "cell_type": "code",
   "execution_count": 10,
   "metadata": {},
   "outputs": [],
   "source": [
    "def build_graph(img, width, height, diff, neighborhood_8=False):\n",
    "    graph_edges = []\n",
    "    for y in range(height):\n",
    "        for x in range(width):\n",
    "            # If only 4-neighbors are considered, resulting in edges between a pixel and its top and left neighbors.\n",
    "            if x > 0:\n",
    "                graph_edges.append(create_edge(img, width, x, y, x-1, y, diff))\n",
    "\n",
    "            if y > 0:\n",
    "                graph_edges.append(create_edge(img, width, x, y, x, y-1, diff))\n",
    "\n",
    "            # 8-neighbors include the 4-neighbors plus diagonally adjacent pixels.\n",
    "            # If 8-neighbors are considered, resulting in additional edges between a pixel and its diagonal neighbors.\n",
    "            if neighborhood_8:\n",
    "                if x > 0 and y > 0:\n",
    "                    graph_edges.append(create_edge(img, width, x, y, x-1, y-1, diff))\n",
    "\n",
    "                if x > 0 and y < height-1:\n",
    "                    graph_edges.append(create_edge(img, width, x, y, x-1, y+1, diff))\n",
    "\n",
    "    return graph_edges"
   ]
  },
  {
   "cell_type": "code",
   "execution_count": 11,
   "metadata": {},
   "outputs": [],
   "source": [
    "def remove_small_components(forest, graph, min_size):\n",
    "    for edge in graph:\n",
    "        a = forest.find(edge[0])\n",
    "        b = forest.find(edge[1])\n",
    "\n",
    "        if a != b and (forest.size_of(a) < min_size or forest.size_of(b) < min_size):\n",
    "            forest.merge(a, b)\n",
    "\n",
    "    return  forest"
   ]
  },
  {
   "cell_type": "code",
   "execution_count": 12,
   "metadata": {},
   "outputs": [],
   "source": [
    "def segment_graph(graph_edges, num_nodes, const, min_size, threshold_func):\n",
    "    # Step 1: initialization\n",
    "    forest = Forest(num_nodes)\n",
    "    weight = lambda edge: edge[2]\n",
    "    sorted_graph = sorted(graph_edges, key=weight)\n",
    "    threshold = [ threshold_func(1, const) for _ in range(num_nodes) ]\n",
    "\n",
    "    # Step 2: merging\n",
    "    for edge in sorted_graph:\n",
    "        parent_a = forest.find(edge[0])\n",
    "        parent_b = forest.find(edge[1])\n",
    "        a_condition = weight(edge) <= threshold[parent_a]\n",
    "        b_condition = weight(edge) <= threshold[parent_b]\n",
    "\n",
    "        if parent_a != parent_b and a_condition and b_condition:\n",
    "            forest.merge(parent_a, parent_b)\n",
    "            a = forest.find(parent_a)\n",
    "            threshold[a] = weight(edge) + threshold_func(forest.nodes[a].size, const)\n",
    "\n",
    "    return remove_small_components(forest, sorted_graph, min_size)"
   ]
  },
  {
   "cell_type": "code",
   "execution_count": 13,
   "metadata": {},
   "outputs": [],
   "source": [
    "# It returns the Euclidean distance between the two pixels.\n",
    "\n",
    "def diff(img, x1, y1, x2, y2):\n",
    "    _out = np.sum((img[x1, y1] - img[x2, y2]) ** 2)\n",
    "    return np.sqrt(_out)"
   ]
  },
  {
   "cell_type": "code",
   "execution_count": 14,
   "metadata": {},
   "outputs": [],
   "source": [
    "def threshold(size, const):\n",
    "    return (const * 1.0 / size)"
   ]
  },
  {
   "cell_type": "code",
   "execution_count": 15,
   "metadata": {},
   "outputs": [],
   "source": [
    "def generate_image(forest, width, height):\n",
    "    random_color = lambda: (int(random()*255), int(random()*255), int(random()*255))\n",
    "    colors = [random_color() for i in range(width*height)]\n",
    "\n",
    "    img = Image.new('RGB', (width, height))\n",
    "    im = img.load()\n",
    "    for y in range(height):\n",
    "        for x in range(width):\n",
    "            comp = forest.find(y * width + x)\n",
    "            im[x, y] = colors[comp]\n",
    "\n",
    "    return img.transpose(Image.ROTATE_270).transpose(Image.FLIP_LEFT_RIGHT)"
   ]
  },
  {
   "cell_type": "code",
   "execution_count": 16,
   "metadata": {},
   "outputs": [],
   "source": [
    "image_path = '../img/banana_vehicule.JPG'\n",
    "\n",
    "img = Image.open(image_path)"
   ]
  },
  {
   "cell_type": "code",
   "execution_count": 17,
   "metadata": {},
   "outputs": [],
   "source": [
    "sigma = 1.0\n",
    "size = img.size\n",
    "\n",
    "smooth = img.filter(ImageFilter.GaussianBlur(sigma))\n",
    "smooth = np.array(smooth).astype('int')"
   ]
  },
  {
   "cell_type": "code",
   "execution_count": 18,
   "metadata": {},
   "outputs": [],
   "source": [
    "graph_edges = build_graph(smooth, size[1], size[0], diff, neighborhood_8=False)"
   ]
  },
  {
   "cell_type": "code",
   "execution_count": 19,
   "metadata": {},
   "outputs": [],
   "source": [
    "num_nodes = size[0] * size[1]\n",
    "\n",
    "forest = Forest(num_nodes)"
   ]
  },
  {
   "cell_type": "code",
   "execution_count": 20,
   "metadata": {},
   "outputs": [],
   "source": [
    "sorted_graph = sorted(graph_edges, key=lambda x: x[2])\n",
    "threshold = [5 for _ in range(num_nodes)]"
   ]
  },
  {
   "cell_type": "markdown",
   "metadata": {},
   "source": [
    "#### MaxMin Flow Implementation"
   ]
  },
  {
   "cell_type": "code",
   "execution_count": 21,
   "metadata": {},
   "outputs": [],
   "source": [
    "from collections import deque\n",
    "from operator import itemgetter\n",
    "import sys, getopt, math\n",
    "\n",
    "import networkx as nx\n",
    "from networkx.algorithms.flow.utils import build_residual_network\n",
    "\n",
    "import cv2\n",
    "import numpy as np\n",
    "import matplotlib.pyplot as plt"
   ]
  },
  {
   "cell_type": "markdown",
   "metadata": {},
   "source": [
    "##### BoykovKolmorogov"
   ]
  },
  {
   "cell_type": "code",
   "execution_count": 22,
   "metadata": {},
   "outputs": [],
   "source": [
    "class BoykovKolmorogov():\n",
    "\n",
    "    def __init__(self, G, s, t, capacity, resisual=None, cutoff=None):\n",
    "        self.s = s\n",
    "        self.t = t\n",
    "        self.capacity = capacity\n",
    "\n",
    "        self.St = {s: None}\n",
    "        self.Tt = {t: None}\n",
    "        self.A = deque([s, t])\n",
    "        self.O = deque()\n",
    "        \n",
    "        self.flow_value = 0\n",
    "        self.dist = {s: 0, t: 0}\n",
    "        self.current_step = 1\n",
    "        self.steps = {s: 0, t: 0}\n",
    "\n",
    "        if resisual is None:\n",
    "            self.residual = build_residual_network(G, capacity)\n",
    "        else:\n",
    "            self.residual = resisual\n",
    "\n",
    "        for p in self.residual:\n",
    "            for e in self.residual[p].values():\n",
    "                e['flow'] = 0\n",
    "\n",
    "        self.inf = self.residual.graph['inf']\n",
    "        if cutoff is None:\n",
    "            self.cutoff = self.inf\n",
    "\n",
    "        self.succ = self.residual.succ\n",
    "        self.pred = self.residual.pred\n",
    "        \n",
    "        \n",
    "    def grow(self):\n",
    "        while self.A:\n",
    "            u = self.A[0]\n",
    "\n",
    "            if u in self.St:\n",
    "                current = self.St\n",
    "                other = self.Tt\n",
    "                neighbors = self.succ\n",
    "            else:\n",
    "                current = self.Tt\n",
    "                other = self.St\n",
    "                neighbors = self.pred\n",
    "\n",
    "            for v, attr in neighbors[u].items():\n",
    "                if attr['capacity'] > attr['flow']:\n",
    "                    if v not in current:\n",
    "                        if v in other:\n",
    "                            return (u, v) if current is self.St else (v, u)\n",
    "                        \n",
    "                        current[v] = u\n",
    "                        self.dist[v] = self.dist[u] + 1\n",
    "                        self.steps[v] = self.steps[u]\n",
    "                        self.A.append(v)\n",
    "\n",
    "                    elif v in current and self.steps[v] <= self.steps[u] and self.dist[v] > self.dist[u] + 1:\n",
    "                        current[v] = u\n",
    "                        self.dist[v] = self.dist[u] + 1\n",
    "                        self.steps[v] = self.steps[u]\n",
    "\n",
    "            _ = self.A.popleft()\n",
    "        return None, None\n",
    "\n",
    "\n",
    "    def augment(self, u, v):\n",
    "        attr = self.succ[u][v]\n",
    "        flow = min(self.inf, attr['capacity'] - attr['flow'])\n",
    "\n",
    "        # Trace a path from u to s in St\n",
    "        path = [u]\n",
    "        w = u\n",
    "        while w != self.s:\n",
    "            n = w\n",
    "            w = self.St[n]\n",
    "            attr = self.pred[n][w]\n",
    "            flow = min(flow, attr['capacity'] - attr['flow'])\n",
    "            path.append(w)\n",
    "        path.reverse()\n",
    "\n",
    "        # Trace a path from v to t in Tt\n",
    "        path.append(v)\n",
    "        w = v\n",
    "        while w != self.t:\n",
    "            n = w\n",
    "            w = self.Tt[n]\n",
    "            attr = self.succ[n][w]\n",
    "            flow = min(flow, attr['capacity'] - attr['flow'])\n",
    "            path.append(w)\n",
    "\n",
    "        # Augment flow along the path and check for orphans\n",
    "        it = iter(path)\n",
    "        u = next(it)\n",
    "        new_orphans = []\n",
    "        for v in it:\n",
    "            self.succ[u][v]['flow'] += flow\n",
    "            self.succ[v][u]['flow'] -= flow\n",
    "            if self.succ[u][v]['flow'] == self.succ[u][v]['capacity']:\n",
    "                if v in self.St:\n",
    "                    self.St[v] = None\n",
    "                    new_orphans.append(v)\n",
    "                if u in self.Tt:\n",
    "                    self.Tt[u] = None\n",
    "                    new_orphans.append(u)\n",
    "            u = v\n",
    "        self.O.extend(sorted(new_orphans, key=self.dist.get))\n",
    "        \n",
    "        self.flow_value += flow\n",
    "\n",
    "\n",
    "    def adopt(self):\n",
    "        while self.O:\n",
    "            u = self.O.popleft()\n",
    "            if u in self.St:\n",
    "                current = self.St\n",
    "                neighbors = self.pred\n",
    "            else:\n",
    "                current = self.Tt\n",
    "                neighbors = self.succ\n",
    "            nbrs = ((n, attr, self.dist[n]) for n, attr in neighbors[u].items()\n",
    "                    if n in current)\n",
    "            for v, attr, d in sorted(nbrs, key=itemgetter(2)):\n",
    "                if attr['capacity'] > attr['flow']:\n",
    "                    if self.valid_root(v, current):\n",
    "                        current[u] = v\n",
    "                        self.dist[u] = self.dist[v] + 1\n",
    "                        self.steps[u] = self.current_step\n",
    "                        break\n",
    "            else:\n",
    "                nbrs = ((n, attr, self.dist[n]) for n, attr in neighbors[u].items()\n",
    "                        if n in current)\n",
    "                for v, attr, d in sorted(nbrs, key=itemgetter(2)):\n",
    "                    if attr['capacity'] > attr['flow']:\n",
    "                        if v not in self.A:\n",
    "                            self.A.append(v)\n",
    "                    if current[v] == u:\n",
    "                        current[v] = None\n",
    "                        self.O.appendleft(v)\n",
    "                if u in self.A:\n",
    "                    self.A.remove(u)\n",
    "                del current[u]\n",
    "\n",
    "\n",
    "    def valid_root(self, n, tree):\n",
    "        path = []\n",
    "        v = n\n",
    "        while v is not None:\n",
    "            path.append(v)\n",
    "            if v == self.s or v == self.t:\n",
    "                base_dist = 0\n",
    "                break\n",
    "            elif self.steps[v] == self.current_step:\n",
    "                base_dist = self.dist[v]\n",
    "                break\n",
    "            v = tree[v]\n",
    "        else:\n",
    "            return False\n",
    "        length = len(path)\n",
    "        for i, u in enumerate(path, 1):\n",
    "            self.dist[u] = base_dist + length - i\n",
    "            self.steps[u] = self.current_step\n",
    "        return True\n",
    "    \n",
    "\n",
    "    def max_flow(self):\n",
    "        while self.flow_value < self.cutoff:\n",
    "            p, q = self.grow()\n",
    "            if p is None:\n",
    "                break\n",
    "            self.current_step += 1\n",
    "            self.augment(p, q)\n",
    "            self.adopt()\n",
    "        \n",
    "        self.residual.graph['flow_value'] = self.flow_value\n",
    "        self.residual.graph['trees'] = (self.St, self.Tt)\n",
    "        return self.residual"
   ]
  },
  {
   "cell_type": "markdown",
   "metadata": {},
   "source": [
    "##### Utils"
   ]
  },
  {
   "cell_type": "code",
   "execution_count": 23,
   "metadata": {},
   "outputs": [],
   "source": [
    "def mark_seeds(event,x,y,flags,param):\n",
    "    global drawing,mode,marked_bg_pixels,marked_ob_pixels,I_dummy\n",
    "    h,w,c=I_dummy.shape\n",
    "\n",
    "    if event == cv2.EVENT_LBUTTONDOWN:\n",
    "        drawing = True\n",
    "    elif event == cv2.EVENT_MOUSEMOVE:\n",
    "        if drawing == True:\n",
    "            if mode == \"ob\":\n",
    "                if(x>=0 and x<=w-1) and (y>0 and y<=h-1):\n",
    "                    marked_ob_pixels.append((y,x))\n",
    "                cv2.line(I_dummy,(x-3,y),(x+3,y),(0,0,255))\n",
    "            else:\n",
    "                if(x>=0 and x<=w-1) and (y>0 and y<=h-1):\n",
    "                    marked_bg_pixels.append((y,x))\n",
    "                cv2.line(I_dummy,(x-3,y),(x+3,y),(255,0,0))\n",
    "    elif event == cv2.EVENT_LBUTTONUP:\n",
    "        drawing = False\n",
    "        if mode == \"ob\":\n",
    "            cv2.line(I_dummy,(x-3,y),(x+3,y),(0,0,255))\n",
    "        else:\n",
    "            cv2.line(I_dummy,(x-3,y),(x+3,y),(255,0,0))"
   ]
  },
  {
   "cell_type": "code",
   "execution_count": 24,
   "metadata": {},
   "outputs": [],
   "source": [
    "def draw_sp_mask(I,SP):\n",
    "\tI_marked=np.zeros(I.shape)\n",
    "\tI_marked=np.copy(I)\n",
    "\tmask=SP.getLabelContourMask()\n",
    "\tfor i in range(mask.shape[0]):\n",
    "\t\tfor j in range(mask.shape[1]):\n",
    "\t\t\tif mask[i][j]==-1 or mask[i][j]==255: # SLIC/SLICO marks borders with -1 :: SEED marks borders with 255\n",
    "\t\t\t\tI_marked[i][j]=[128,128,128]\n",
    "\treturn I_marked"
   ]
  },
  {
   "cell_type": "code",
   "execution_count": 25,
   "metadata": {},
   "outputs": [],
   "source": [
    "def draw_centroids(I, SP_list):\n",
    "\tfor each in SP_list:\n",
    "\t\ti,j=each.centroid\n",
    "\t\tI[i][j]=128\n",
    "\treturn I"
   ]
  },
  {
   "cell_type": "code",
   "execution_count": 26,
   "metadata": {},
   "outputs": [],
   "source": [
    "def distance(p0, p1):\n",
    "\treturn math.sqrt((p0[0] - p1[0])**2 + (p0[1] - p1[1])**2)"
   ]
  },
  {
   "cell_type": "markdown",
   "metadata": {},
   "source": [
    "##### Img to Graph"
   ]
  },
  {
   "cell_type": "code",
   "execution_count": 27,
   "metadata": {},
   "outputs": [],
   "source": [
    "class SPNode():\n",
    "\tdef __init__(self, label=None, pixels=[], mean_intensity=0.0, centroid=(), type='na', mean_lab=None, lab_hist=None, real_lab=None):\n",
    "\t\tself.label = label\n",
    "\t\tself.pixels = pixels\n",
    "\t\tself.mean_intensity = mean_intensity\n",
    "\t\tself.centroid = centroid\n",
    "\t\tself.type = type\n",
    "\t\tself.mean_lab = mean_lab\n",
    "\t\tself.lab_hist = lab_hist\n",
    "\t\tself.real_lab = real_lab\n",
    "\tdef __repr__(self):\n",
    "\t\treturn str(self.label)"
   ]
  },
  {
   "cell_type": "code",
   "execution_count": 28,
   "metadata": {},
   "outputs": [],
   "source": [
    "def gen_sp(image, pixel_obj, pixel_bg, algorithm=101, region_size=20, num_iter=4):\n",
    "    SP = cv2.ximgproc.createSuperpixelSLIC(image, algorithm=algorithm, region_size=region_size, ruler=10.0)\n",
    "    SP.iterate(num_iterations=num_iter)\n",
    "\n",
    "    SP_labels=SP.getLabels()\n",
    "    SP_list=[None for each in range(SP.getNumberOfSuperpixels())]\n",
    "\n",
    "    h, w, _ = image.shape\n",
    "    I_lab=cv2.cvtColor(image,cv2.COLOR_BGR2LAB)\n",
    "\n",
    "    for i in range(h):\n",
    "        for j in range(w):\n",
    "            if not SP_list[SP_labels[i][j]]:\n",
    "                tmp_sp = SPNode(label=SP_labels[i][j], pixels=[(i,j)])\n",
    "                SP_list[SP_labels[i][j]]=tmp_sp\n",
    "            else:\n",
    "                SP_list[SP_labels[i][j]].pixels.append((i,j))\n",
    "\n",
    "    for sp in SP_list:\n",
    "        n_pixels = len(sp.pixels)\n",
    "        i_sum = 0\n",
    "        j_sum = 0\n",
    "        lab_sum = [0,0,0]\n",
    "        tmp_mask = np.zeros((h,w),np.uint8)\n",
    "        for each in sp.pixels:\n",
    "            i,j = each\n",
    "            i_sum += i\n",
    "            j_sum += j\n",
    "            lab_sum = [x + y for x, y in zip(lab_sum, I_lab[i][j])]\n",
    "            tmp_mask[i][j] = 255\n",
    "        sp.lab_hist = cv2.calcHist([I_lab], [0,1,2], tmp_mask, (32,32,32), [0, 255, 0, 255, 0, 255])\n",
    "        sp.centroid += (i_sum//n_pixels, j_sum//n_pixels,)\n",
    "        sp.mean_lab = [x/n_pixels for x in lab_sum]\n",
    "        sp.real_lab = [sp.mean_lab[0]*100/255, sp.mean_lab[1]-128, sp.mean_lab[2]-128]\n",
    "\n",
    "    # Label the marked pixels\n",
    "    for pixels in pixel_obj:\n",
    "        x,y = pixels\n",
    "        SP_list[SP_labels[x][y]].type=\"ob\"\n",
    "    for pixels in pixel_bg:\n",
    "        x,y = pixels\n",
    "        SP_list[SP_labels[x][y]].type=\"bg\"\n",
    "    mask_ob=np.zeros((h,w),dtype=np.uint8)\n",
    "    for pixels in pixel_obj:\n",
    "        i,j=pixels\n",
    "        mask_ob[i][j]=255\n",
    "    mask_bg=np.zeros((h,w),dtype=np.uint8)\n",
    "    for pixels in pixel_bg:\n",
    "        i,j=pixels\n",
    "        mask_bg[i][j]=255\n",
    "\n",
    "    # Get the histograms\n",
    "    hist_ob=cv2.calcHist([image],[0,1,2],mask_ob,(32,32,32),[0, 255, 0, 255, 0, 255])\n",
    "    hist_bg=cv2.calcHist([image],[0,1,2],mask_bg,(32,32,32),[0, 255, 0, 255, 0, 255])\n",
    "\n",
    "    return SP, SP_list, hist_ob, hist_bg   "
   ]
  },
  {
   "cell_type": "code",
   "execution_count": 29,
   "metadata": {},
   "outputs": [],
   "source": [
    "def gen_graph(I, SP_list, hist_ob, hist_bg, bins=(32,32,32), lambda_=0.9, sigma=5):\n",
    "    G = nx.Graph()\n",
    "    s = SPNode(label='s')\n",
    "    t = SPNode(label='t')\n",
    "    hist_ob_sum = int(hist_ob.sum())\n",
    "    hist_bg_sum = int(hist_bg.sum())\n",
    "\n",
    "    for u in SP_list:\n",
    "        K=0\n",
    "        region_rad=math.sqrt(len(u.pixels)/math.pi)\n",
    "        for v in SP_list:\n",
    "            if u != v:\n",
    "                if distance(u.centroid, v.centroid) <= 2.5*region_rad:\n",
    "                    sim = math.exp(-(cv2.compareHist(u.lab_hist,v.lab_hist,3)**2/2*sigma**2))*(1/distance(u.centroid, v.centroid))\n",
    "                    K += sim\n",
    "                    G.add_edge(u, v, sim=sim)\n",
    "        if(u.type=='na'):\n",
    "            l_,a_,b_ = [int(x) for x in u.mean_lab]\n",
    "            l_i = int(l_//(255/bins[0]))\n",
    "            a_i = int(a_//(255/bins[1]))\n",
    "            b_i = int(b_//(255/bins[2]))\n",
    "            pr_ob = int(hist_ob[l_i,a_i,b_i])/hist_ob_sum\n",
    "            pr_bg = int(hist_bg[l_i,a_i,b_i])/hist_bg_sum\n",
    "            sim_s = 100000\n",
    "            sim_t = 100000\n",
    "            if pr_bg > 0:\n",
    "                sim_s = lambda_*-np.log(pr_bg)\n",
    "            if pr_ob > 0:\n",
    "                sim_t = lambda_*-np.log(pr_ob)\n",
    "            G.add_edge(s, u, sim=sim_s)\n",
    "            G.add_edge(t, u, sim=sim_t)\n",
    "        if(u.type=='ob'):\n",
    "            G.add_edge(s, u, sim=1+K)\n",
    "            G.add_edge(t, u, sim=0)\n",
    "        if(u.type=='bg'):\n",
    "            G.add_edge(s, u, sim=0)\n",
    "            G.add_edge(t, u, sim=1+K)\t\t\n",
    "    return G, s, t"
   ]
  },
  {
   "cell_type": "code",
   "execution_count": 30,
   "metadata": {},
   "outputs": [],
   "source": [
    "def img_to_graph(image, marked_ob_pixels, marked_bg_pixels, return_sp=True, algorithm=101, region_size=20, num_iter=4, bins=(32,32,32), lambda_=0.9, sigma=5):\n",
    "    SP, SP_list, hist_ob, hist_bg = gen_sp(image, marked_ob_pixels, marked_bg_pixels, algorithm, region_size, num_iter)\n",
    "    I_lab=cv2.cvtColor(image,cv2.COLOR_BGR2LAB)\n",
    "    G, s, t = gen_graph(I_lab, SP_list, hist_ob, hist_bg, bins, lambda_, sigma)\n",
    "\n",
    "    if return_sp:\n",
    "        sp_image = np.zeros(image.shape,dtype=np.uint8)\n",
    "        for sp in SP_list:\n",
    "            for pixels in sp.pixels:\n",
    "                i,j=pixels\n",
    "                sp_image[i][j]=sp.mean_lab\n",
    "        sp_image=cv2.cvtColor(sp_image, cv2.COLOR_Lab2RGB)\n",
    "        \n",
    "        sp_mask=draw_sp_mask(image,SP)\n",
    "        sp_mask=draw_centroids(sp_mask, SP_list)\n",
    "\n",
    "        return G, s, t, sp_mask, sp_image\n",
    "\n",
    "    return G, s, t"
   ]
  },
  {
   "cell_type": "markdown",
   "metadata": {},
   "source": [
    "##### Implémentation"
   ]
  },
  {
   "cell_type": "code",
   "execution_count": 31,
   "metadata": {},
   "outputs": [],
   "source": [
    "image_path = '../img/banana_vehicule.JPG'\n",
    "\n",
    "I = cv2.imread(image_path)\n",
    "I_dummy=np.zeros(I.shape)\n",
    "I_dummy=np.copy(I)"
   ]
  },
  {
   "cell_type": "code",
   "execution_count": 32,
   "metadata": {},
   "outputs": [
    {
     "ename": "NameError",
     "evalue": "name 'drawing' is not defined",
     "output_type": "error",
     "traceback": [
      "\u001b[0;31m---------------------------------------------------------------------------\u001b[0m",
      "\u001b[0;31mNameError\u001b[0m                                 Traceback (most recent call last)",
      "Cell \u001b[0;32mIn[23], line 8\u001b[0m, in \u001b[0;36mmark_seeds\u001b[0;34m(event, x, y, flags, param)\u001b[0m\n\u001b[1;32m      6\u001b[0m     drawing \u001b[38;5;241m=\u001b[39m \u001b[38;5;28;01mTrue\u001b[39;00m\n\u001b[1;32m      7\u001b[0m \u001b[38;5;28;01melif\u001b[39;00m event \u001b[38;5;241m==\u001b[39m cv2\u001b[38;5;241m.\u001b[39mEVENT_MOUSEMOVE:\n\u001b[0;32m----> 8\u001b[0m     \u001b[38;5;28;01mif\u001b[39;00m \u001b[43mdrawing\u001b[49m \u001b[38;5;241m==\u001b[39m \u001b[38;5;28;01mTrue\u001b[39;00m:\n\u001b[1;32m      9\u001b[0m         \u001b[38;5;28;01mif\u001b[39;00m mode \u001b[38;5;241m==\u001b[39m \u001b[38;5;124m\"\u001b[39m\u001b[38;5;124mob\u001b[39m\u001b[38;5;124m\"\u001b[39m:\n\u001b[1;32m     10\u001b[0m             \u001b[38;5;28;01mif\u001b[39;00m(x\u001b[38;5;241m>\u001b[39m\u001b[38;5;241m=\u001b[39m\u001b[38;5;241m0\u001b[39m \u001b[38;5;129;01mand\u001b[39;00m x\u001b[38;5;241m<\u001b[39m\u001b[38;5;241m=\u001b[39mw\u001b[38;5;241m-\u001b[39m\u001b[38;5;241m1\u001b[39m) \u001b[38;5;129;01mand\u001b[39;00m (y\u001b[38;5;241m>\u001b[39m\u001b[38;5;241m0\u001b[39m \u001b[38;5;129;01mand\u001b[39;00m y\u001b[38;5;241m<\u001b[39m\u001b[38;5;241m=\u001b[39mh\u001b[38;5;241m-\u001b[39m\u001b[38;5;241m1\u001b[39m):\n",
      "\u001b[0;31mNameError\u001b[0m: name 'drawing' is not defined"
     ]
    },
    {
     "ename": "NameError",
     "evalue": "name 'drawing' is not defined",
     "output_type": "error",
     "traceback": [
      "\u001b[0;31m---------------------------------------------------------------------------\u001b[0m",
      "\u001b[0;31mNameError\u001b[0m                                 Traceback (most recent call last)",
      "Cell \u001b[0;32mIn[23], line 8\u001b[0m, in \u001b[0;36mmark_seeds\u001b[0;34m(event, x, y, flags, param)\u001b[0m\n\u001b[1;32m      6\u001b[0m     drawing \u001b[38;5;241m=\u001b[39m \u001b[38;5;28;01mTrue\u001b[39;00m\n\u001b[1;32m      7\u001b[0m \u001b[38;5;28;01melif\u001b[39;00m event \u001b[38;5;241m==\u001b[39m cv2\u001b[38;5;241m.\u001b[39mEVENT_MOUSEMOVE:\n\u001b[0;32m----> 8\u001b[0m     \u001b[38;5;28;01mif\u001b[39;00m \u001b[43mdrawing\u001b[49m \u001b[38;5;241m==\u001b[39m \u001b[38;5;28;01mTrue\u001b[39;00m:\n\u001b[1;32m      9\u001b[0m         \u001b[38;5;28;01mif\u001b[39;00m mode \u001b[38;5;241m==\u001b[39m \u001b[38;5;124m\"\u001b[39m\u001b[38;5;124mob\u001b[39m\u001b[38;5;124m\"\u001b[39m:\n\u001b[1;32m     10\u001b[0m             \u001b[38;5;28;01mif\u001b[39;00m(x\u001b[38;5;241m>\u001b[39m\u001b[38;5;241m=\u001b[39m\u001b[38;5;241m0\u001b[39m \u001b[38;5;129;01mand\u001b[39;00m x\u001b[38;5;241m<\u001b[39m\u001b[38;5;241m=\u001b[39mw\u001b[38;5;241m-\u001b[39m\u001b[38;5;241m1\u001b[39m) \u001b[38;5;129;01mand\u001b[39;00m (y\u001b[38;5;241m>\u001b[39m\u001b[38;5;241m0\u001b[39m \u001b[38;5;129;01mand\u001b[39;00m y\u001b[38;5;241m<\u001b[39m\u001b[38;5;241m=\u001b[39mh\u001b[38;5;241m-\u001b[39m\u001b[38;5;241m1\u001b[39m):\n",
      "\u001b[0;31mNameError\u001b[0m: name 'drawing' is not defined"
     ]
    },
    {
     "ename": "NameError",
     "evalue": "name 'drawing' is not defined",
     "output_type": "error",
     "traceback": [
      "\u001b[0;31m---------------------------------------------------------------------------\u001b[0m",
      "\u001b[0;31mNameError\u001b[0m                                 Traceback (most recent call last)",
      "Cell \u001b[0;32mIn[23], line 8\u001b[0m, in \u001b[0;36mmark_seeds\u001b[0;34m(event, x, y, flags, param)\u001b[0m\n\u001b[1;32m      6\u001b[0m     drawing \u001b[38;5;241m=\u001b[39m \u001b[38;5;28;01mTrue\u001b[39;00m\n\u001b[1;32m      7\u001b[0m \u001b[38;5;28;01melif\u001b[39;00m event \u001b[38;5;241m==\u001b[39m cv2\u001b[38;5;241m.\u001b[39mEVENT_MOUSEMOVE:\n\u001b[0;32m----> 8\u001b[0m     \u001b[38;5;28;01mif\u001b[39;00m \u001b[43mdrawing\u001b[49m \u001b[38;5;241m==\u001b[39m \u001b[38;5;28;01mTrue\u001b[39;00m:\n\u001b[1;32m      9\u001b[0m         \u001b[38;5;28;01mif\u001b[39;00m mode \u001b[38;5;241m==\u001b[39m \u001b[38;5;124m\"\u001b[39m\u001b[38;5;124mob\u001b[39m\u001b[38;5;124m\"\u001b[39m:\n\u001b[1;32m     10\u001b[0m             \u001b[38;5;28;01mif\u001b[39;00m(x\u001b[38;5;241m>\u001b[39m\u001b[38;5;241m=\u001b[39m\u001b[38;5;241m0\u001b[39m \u001b[38;5;129;01mand\u001b[39;00m x\u001b[38;5;241m<\u001b[39m\u001b[38;5;241m=\u001b[39mw\u001b[38;5;241m-\u001b[39m\u001b[38;5;241m1\u001b[39m) \u001b[38;5;129;01mand\u001b[39;00m (y\u001b[38;5;241m>\u001b[39m\u001b[38;5;241m0\u001b[39m \u001b[38;5;129;01mand\u001b[39;00m y\u001b[38;5;241m<\u001b[39m\u001b[38;5;241m=\u001b[39mh\u001b[38;5;241m-\u001b[39m\u001b[38;5;241m1\u001b[39m):\n",
      "\u001b[0;31mNameError\u001b[0m: name 'drawing' is not defined"
     ]
    },
    {
     "ename": "NameError",
     "evalue": "name 'drawing' is not defined",
     "output_type": "error",
     "traceback": [
      "\u001b[0;31m---------------------------------------------------------------------------\u001b[0m",
      "\u001b[0;31mNameError\u001b[0m                                 Traceback (most recent call last)",
      "Cell \u001b[0;32mIn[23], line 8\u001b[0m, in \u001b[0;36mmark_seeds\u001b[0;34m(event, x, y, flags, param)\u001b[0m\n\u001b[1;32m      6\u001b[0m     drawing \u001b[38;5;241m=\u001b[39m \u001b[38;5;28;01mTrue\u001b[39;00m\n\u001b[1;32m      7\u001b[0m \u001b[38;5;28;01melif\u001b[39;00m event \u001b[38;5;241m==\u001b[39m cv2\u001b[38;5;241m.\u001b[39mEVENT_MOUSEMOVE:\n\u001b[0;32m----> 8\u001b[0m     \u001b[38;5;28;01mif\u001b[39;00m \u001b[43mdrawing\u001b[49m \u001b[38;5;241m==\u001b[39m \u001b[38;5;28;01mTrue\u001b[39;00m:\n\u001b[1;32m      9\u001b[0m         \u001b[38;5;28;01mif\u001b[39;00m mode \u001b[38;5;241m==\u001b[39m \u001b[38;5;124m\"\u001b[39m\u001b[38;5;124mob\u001b[39m\u001b[38;5;124m\"\u001b[39m:\n\u001b[1;32m     10\u001b[0m             \u001b[38;5;28;01mif\u001b[39;00m(x\u001b[38;5;241m>\u001b[39m\u001b[38;5;241m=\u001b[39m\u001b[38;5;241m0\u001b[39m \u001b[38;5;129;01mand\u001b[39;00m x\u001b[38;5;241m<\u001b[39m\u001b[38;5;241m=\u001b[39mw\u001b[38;5;241m-\u001b[39m\u001b[38;5;241m1\u001b[39m) \u001b[38;5;129;01mand\u001b[39;00m (y\u001b[38;5;241m>\u001b[39m\u001b[38;5;241m0\u001b[39m \u001b[38;5;129;01mand\u001b[39;00m y\u001b[38;5;241m<\u001b[39m\u001b[38;5;241m=\u001b[39mh\u001b[38;5;241m-\u001b[39m\u001b[38;5;241m1\u001b[39m):\n",
      "\u001b[0;31mNameError\u001b[0m: name 'drawing' is not defined"
     ]
    },
    {
     "ename": "NameError",
     "evalue": "name 'drawing' is not defined",
     "output_type": "error",
     "traceback": [
      "\u001b[0;31m---------------------------------------------------------------------------\u001b[0m",
      "\u001b[0;31mNameError\u001b[0m                                 Traceback (most recent call last)",
      "Cell \u001b[0;32mIn[23], line 8\u001b[0m, in \u001b[0;36mmark_seeds\u001b[0;34m(event, x, y, flags, param)\u001b[0m\n\u001b[1;32m      6\u001b[0m     drawing \u001b[38;5;241m=\u001b[39m \u001b[38;5;28;01mTrue\u001b[39;00m\n\u001b[1;32m      7\u001b[0m \u001b[38;5;28;01melif\u001b[39;00m event \u001b[38;5;241m==\u001b[39m cv2\u001b[38;5;241m.\u001b[39mEVENT_MOUSEMOVE:\n\u001b[0;32m----> 8\u001b[0m     \u001b[38;5;28;01mif\u001b[39;00m \u001b[43mdrawing\u001b[49m \u001b[38;5;241m==\u001b[39m \u001b[38;5;28;01mTrue\u001b[39;00m:\n\u001b[1;32m      9\u001b[0m         \u001b[38;5;28;01mif\u001b[39;00m mode \u001b[38;5;241m==\u001b[39m \u001b[38;5;124m\"\u001b[39m\u001b[38;5;124mob\u001b[39m\u001b[38;5;124m\"\u001b[39m:\n\u001b[1;32m     10\u001b[0m             \u001b[38;5;28;01mif\u001b[39;00m(x\u001b[38;5;241m>\u001b[39m\u001b[38;5;241m=\u001b[39m\u001b[38;5;241m0\u001b[39m \u001b[38;5;129;01mand\u001b[39;00m x\u001b[38;5;241m<\u001b[39m\u001b[38;5;241m=\u001b[39mw\u001b[38;5;241m-\u001b[39m\u001b[38;5;241m1\u001b[39m) \u001b[38;5;129;01mand\u001b[39;00m (y\u001b[38;5;241m>\u001b[39m\u001b[38;5;241m0\u001b[39m \u001b[38;5;129;01mand\u001b[39;00m y\u001b[38;5;241m<\u001b[39m\u001b[38;5;241m=\u001b[39mh\u001b[38;5;241m-\u001b[39m\u001b[38;5;241m1\u001b[39m):\n",
      "\u001b[0;31mNameError\u001b[0m: name 'drawing' is not defined"
     ]
    },
    {
     "ename": "NameError",
     "evalue": "name 'drawing' is not defined",
     "output_type": "error",
     "traceback": [
      "\u001b[0;31m---------------------------------------------------------------------------\u001b[0m",
      "\u001b[0;31mNameError\u001b[0m                                 Traceback (most recent call last)",
      "Cell \u001b[0;32mIn[23], line 8\u001b[0m, in \u001b[0;36mmark_seeds\u001b[0;34m(event, x, y, flags, param)\u001b[0m\n\u001b[1;32m      6\u001b[0m     drawing \u001b[38;5;241m=\u001b[39m \u001b[38;5;28;01mTrue\u001b[39;00m\n\u001b[1;32m      7\u001b[0m \u001b[38;5;28;01melif\u001b[39;00m event \u001b[38;5;241m==\u001b[39m cv2\u001b[38;5;241m.\u001b[39mEVENT_MOUSEMOVE:\n\u001b[0;32m----> 8\u001b[0m     \u001b[38;5;28;01mif\u001b[39;00m \u001b[43mdrawing\u001b[49m \u001b[38;5;241m==\u001b[39m \u001b[38;5;28;01mTrue\u001b[39;00m:\n\u001b[1;32m      9\u001b[0m         \u001b[38;5;28;01mif\u001b[39;00m mode \u001b[38;5;241m==\u001b[39m \u001b[38;5;124m\"\u001b[39m\u001b[38;5;124mob\u001b[39m\u001b[38;5;124m\"\u001b[39m:\n\u001b[1;32m     10\u001b[0m             \u001b[38;5;28;01mif\u001b[39;00m(x\u001b[38;5;241m>\u001b[39m\u001b[38;5;241m=\u001b[39m\u001b[38;5;241m0\u001b[39m \u001b[38;5;129;01mand\u001b[39;00m x\u001b[38;5;241m<\u001b[39m\u001b[38;5;241m=\u001b[39mw\u001b[38;5;241m-\u001b[39m\u001b[38;5;241m1\u001b[39m) \u001b[38;5;129;01mand\u001b[39;00m (y\u001b[38;5;241m>\u001b[39m\u001b[38;5;241m0\u001b[39m \u001b[38;5;129;01mand\u001b[39;00m y\u001b[38;5;241m<\u001b[39m\u001b[38;5;241m=\u001b[39mh\u001b[38;5;241m-\u001b[39m\u001b[38;5;241m1\u001b[39m):\n",
      "\u001b[0;31mNameError\u001b[0m: name 'drawing' is not defined"
     ]
    },
    {
     "ename": "NameError",
     "evalue": "name 'drawing' is not defined",
     "output_type": "error",
     "traceback": [
      "\u001b[0;31m---------------------------------------------------------------------------\u001b[0m",
      "\u001b[0;31mNameError\u001b[0m                                 Traceback (most recent call last)",
      "Cell \u001b[0;32mIn[23], line 8\u001b[0m, in \u001b[0;36mmark_seeds\u001b[0;34m(event, x, y, flags, param)\u001b[0m\n\u001b[1;32m      6\u001b[0m     drawing \u001b[38;5;241m=\u001b[39m \u001b[38;5;28;01mTrue\u001b[39;00m\n\u001b[1;32m      7\u001b[0m \u001b[38;5;28;01melif\u001b[39;00m event \u001b[38;5;241m==\u001b[39m cv2\u001b[38;5;241m.\u001b[39mEVENT_MOUSEMOVE:\n\u001b[0;32m----> 8\u001b[0m     \u001b[38;5;28;01mif\u001b[39;00m \u001b[43mdrawing\u001b[49m \u001b[38;5;241m==\u001b[39m \u001b[38;5;28;01mTrue\u001b[39;00m:\n\u001b[1;32m      9\u001b[0m         \u001b[38;5;28;01mif\u001b[39;00m mode \u001b[38;5;241m==\u001b[39m \u001b[38;5;124m\"\u001b[39m\u001b[38;5;124mob\u001b[39m\u001b[38;5;124m\"\u001b[39m:\n\u001b[1;32m     10\u001b[0m             \u001b[38;5;28;01mif\u001b[39;00m(x\u001b[38;5;241m>\u001b[39m\u001b[38;5;241m=\u001b[39m\u001b[38;5;241m0\u001b[39m \u001b[38;5;129;01mand\u001b[39;00m x\u001b[38;5;241m<\u001b[39m\u001b[38;5;241m=\u001b[39mw\u001b[38;5;241m-\u001b[39m\u001b[38;5;241m1\u001b[39m) \u001b[38;5;129;01mand\u001b[39;00m (y\u001b[38;5;241m>\u001b[39m\u001b[38;5;241m0\u001b[39m \u001b[38;5;129;01mand\u001b[39;00m y\u001b[38;5;241m<\u001b[39m\u001b[38;5;241m=\u001b[39mh\u001b[38;5;241m-\u001b[39m\u001b[38;5;241m1\u001b[39m):\n",
      "\u001b[0;31mNameError\u001b[0m: name 'drawing' is not defined"
     ]
    },
    {
     "ename": "NameError",
     "evalue": "name 'drawing' is not defined",
     "output_type": "error",
     "traceback": [
      "\u001b[0;31m---------------------------------------------------------------------------\u001b[0m",
      "\u001b[0;31mNameError\u001b[0m                                 Traceback (most recent call last)",
      "Cell \u001b[0;32mIn[23], line 8\u001b[0m, in \u001b[0;36mmark_seeds\u001b[0;34m(event, x, y, flags, param)\u001b[0m\n\u001b[1;32m      6\u001b[0m     drawing \u001b[38;5;241m=\u001b[39m \u001b[38;5;28;01mTrue\u001b[39;00m\n\u001b[1;32m      7\u001b[0m \u001b[38;5;28;01melif\u001b[39;00m event \u001b[38;5;241m==\u001b[39m cv2\u001b[38;5;241m.\u001b[39mEVENT_MOUSEMOVE:\n\u001b[0;32m----> 8\u001b[0m     \u001b[38;5;28;01mif\u001b[39;00m \u001b[43mdrawing\u001b[49m \u001b[38;5;241m==\u001b[39m \u001b[38;5;28;01mTrue\u001b[39;00m:\n\u001b[1;32m      9\u001b[0m         \u001b[38;5;28;01mif\u001b[39;00m mode \u001b[38;5;241m==\u001b[39m \u001b[38;5;124m\"\u001b[39m\u001b[38;5;124mob\u001b[39m\u001b[38;5;124m\"\u001b[39m:\n\u001b[1;32m     10\u001b[0m             \u001b[38;5;28;01mif\u001b[39;00m(x\u001b[38;5;241m>\u001b[39m\u001b[38;5;241m=\u001b[39m\u001b[38;5;241m0\u001b[39m \u001b[38;5;129;01mand\u001b[39;00m x\u001b[38;5;241m<\u001b[39m\u001b[38;5;241m=\u001b[39mw\u001b[38;5;241m-\u001b[39m\u001b[38;5;241m1\u001b[39m) \u001b[38;5;129;01mand\u001b[39;00m (y\u001b[38;5;241m>\u001b[39m\u001b[38;5;241m0\u001b[39m \u001b[38;5;129;01mand\u001b[39;00m y\u001b[38;5;241m<\u001b[39m\u001b[38;5;241m=\u001b[39mh\u001b[38;5;241m-\u001b[39m\u001b[38;5;241m1\u001b[39m):\n",
      "\u001b[0;31mNameError\u001b[0m: name 'drawing' is not defined"
     ]
    },
    {
     "ename": "NameError",
     "evalue": "name 'drawing' is not defined",
     "output_type": "error",
     "traceback": [
      "\u001b[0;31m---------------------------------------------------------------------------\u001b[0m",
      "\u001b[0;31mNameError\u001b[0m                                 Traceback (most recent call last)",
      "Cell \u001b[0;32mIn[23], line 8\u001b[0m, in \u001b[0;36mmark_seeds\u001b[0;34m(event, x, y, flags, param)\u001b[0m\n\u001b[1;32m      6\u001b[0m     drawing \u001b[38;5;241m=\u001b[39m \u001b[38;5;28;01mTrue\u001b[39;00m\n\u001b[1;32m      7\u001b[0m \u001b[38;5;28;01melif\u001b[39;00m event \u001b[38;5;241m==\u001b[39m cv2\u001b[38;5;241m.\u001b[39mEVENT_MOUSEMOVE:\n\u001b[0;32m----> 8\u001b[0m     \u001b[38;5;28;01mif\u001b[39;00m \u001b[43mdrawing\u001b[49m \u001b[38;5;241m==\u001b[39m \u001b[38;5;28;01mTrue\u001b[39;00m:\n\u001b[1;32m      9\u001b[0m         \u001b[38;5;28;01mif\u001b[39;00m mode \u001b[38;5;241m==\u001b[39m \u001b[38;5;124m\"\u001b[39m\u001b[38;5;124mob\u001b[39m\u001b[38;5;124m\"\u001b[39m:\n\u001b[1;32m     10\u001b[0m             \u001b[38;5;28;01mif\u001b[39;00m(x\u001b[38;5;241m>\u001b[39m\u001b[38;5;241m=\u001b[39m\u001b[38;5;241m0\u001b[39m \u001b[38;5;129;01mand\u001b[39;00m x\u001b[38;5;241m<\u001b[39m\u001b[38;5;241m=\u001b[39mw\u001b[38;5;241m-\u001b[39m\u001b[38;5;241m1\u001b[39m) \u001b[38;5;129;01mand\u001b[39;00m (y\u001b[38;5;241m>\u001b[39m\u001b[38;5;241m0\u001b[39m \u001b[38;5;129;01mand\u001b[39;00m y\u001b[38;5;241m<\u001b[39m\u001b[38;5;241m=\u001b[39mh\u001b[38;5;241m-\u001b[39m\u001b[38;5;241m1\u001b[39m):\n",
      "\u001b[0;31mNameError\u001b[0m: name 'drawing' is not defined"
     ]
    },
    {
     "ename": "NameError",
     "evalue": "name 'drawing' is not defined",
     "output_type": "error",
     "traceback": [
      "\u001b[0;31m---------------------------------------------------------------------------\u001b[0m",
      "\u001b[0;31mNameError\u001b[0m                                 Traceback (most recent call last)",
      "Cell \u001b[0;32mIn[23], line 8\u001b[0m, in \u001b[0;36mmark_seeds\u001b[0;34m(event, x, y, flags, param)\u001b[0m\n\u001b[1;32m      6\u001b[0m     drawing \u001b[38;5;241m=\u001b[39m \u001b[38;5;28;01mTrue\u001b[39;00m\n\u001b[1;32m      7\u001b[0m \u001b[38;5;28;01melif\u001b[39;00m event \u001b[38;5;241m==\u001b[39m cv2\u001b[38;5;241m.\u001b[39mEVENT_MOUSEMOVE:\n\u001b[0;32m----> 8\u001b[0m     \u001b[38;5;28;01mif\u001b[39;00m \u001b[43mdrawing\u001b[49m \u001b[38;5;241m==\u001b[39m \u001b[38;5;28;01mTrue\u001b[39;00m:\n\u001b[1;32m      9\u001b[0m         \u001b[38;5;28;01mif\u001b[39;00m mode \u001b[38;5;241m==\u001b[39m \u001b[38;5;124m\"\u001b[39m\u001b[38;5;124mob\u001b[39m\u001b[38;5;124m\"\u001b[39m:\n\u001b[1;32m     10\u001b[0m             \u001b[38;5;28;01mif\u001b[39;00m(x\u001b[38;5;241m>\u001b[39m\u001b[38;5;241m=\u001b[39m\u001b[38;5;241m0\u001b[39m \u001b[38;5;129;01mand\u001b[39;00m x\u001b[38;5;241m<\u001b[39m\u001b[38;5;241m=\u001b[39mw\u001b[38;5;241m-\u001b[39m\u001b[38;5;241m1\u001b[39m) \u001b[38;5;129;01mand\u001b[39;00m (y\u001b[38;5;241m>\u001b[39m\u001b[38;5;241m0\u001b[39m \u001b[38;5;129;01mand\u001b[39;00m y\u001b[38;5;241m<\u001b[39m\u001b[38;5;241m=\u001b[39mh\u001b[38;5;241m-\u001b[39m\u001b[38;5;241m1\u001b[39m):\n",
      "\u001b[0;31mNameError\u001b[0m: name 'drawing' is not defined"
     ]
    },
    {
     "ename": "NameError",
     "evalue": "name 'drawing' is not defined",
     "output_type": "error",
     "traceback": [
      "\u001b[0;31m---------------------------------------------------------------------------\u001b[0m",
      "\u001b[0;31mNameError\u001b[0m                                 Traceback (most recent call last)",
      "Cell \u001b[0;32mIn[23], line 8\u001b[0m, in \u001b[0;36mmark_seeds\u001b[0;34m(event, x, y, flags, param)\u001b[0m\n\u001b[1;32m      6\u001b[0m     drawing \u001b[38;5;241m=\u001b[39m \u001b[38;5;28;01mTrue\u001b[39;00m\n\u001b[1;32m      7\u001b[0m \u001b[38;5;28;01melif\u001b[39;00m event \u001b[38;5;241m==\u001b[39m cv2\u001b[38;5;241m.\u001b[39mEVENT_MOUSEMOVE:\n\u001b[0;32m----> 8\u001b[0m     \u001b[38;5;28;01mif\u001b[39;00m \u001b[43mdrawing\u001b[49m \u001b[38;5;241m==\u001b[39m \u001b[38;5;28;01mTrue\u001b[39;00m:\n\u001b[1;32m      9\u001b[0m         \u001b[38;5;28;01mif\u001b[39;00m mode \u001b[38;5;241m==\u001b[39m \u001b[38;5;124m\"\u001b[39m\u001b[38;5;124mob\u001b[39m\u001b[38;5;124m\"\u001b[39m:\n\u001b[1;32m     10\u001b[0m             \u001b[38;5;28;01mif\u001b[39;00m(x\u001b[38;5;241m>\u001b[39m\u001b[38;5;241m=\u001b[39m\u001b[38;5;241m0\u001b[39m \u001b[38;5;129;01mand\u001b[39;00m x\u001b[38;5;241m<\u001b[39m\u001b[38;5;241m=\u001b[39mw\u001b[38;5;241m-\u001b[39m\u001b[38;5;241m1\u001b[39m) \u001b[38;5;129;01mand\u001b[39;00m (y\u001b[38;5;241m>\u001b[39m\u001b[38;5;241m0\u001b[39m \u001b[38;5;129;01mand\u001b[39;00m y\u001b[38;5;241m<\u001b[39m\u001b[38;5;241m=\u001b[39mh\u001b[38;5;241m-\u001b[39m\u001b[38;5;241m1\u001b[39m):\n",
      "\u001b[0;31mNameError\u001b[0m: name 'drawing' is not defined"
     ]
    },
    {
     "ename": "NameError",
     "evalue": "name 'drawing' is not defined",
     "output_type": "error",
     "traceback": [
      "\u001b[0;31m---------------------------------------------------------------------------\u001b[0m",
      "\u001b[0;31mNameError\u001b[0m                                 Traceback (most recent call last)",
      "Cell \u001b[0;32mIn[23], line 8\u001b[0m, in \u001b[0;36mmark_seeds\u001b[0;34m(event, x, y, flags, param)\u001b[0m\n\u001b[1;32m      6\u001b[0m     drawing \u001b[38;5;241m=\u001b[39m \u001b[38;5;28;01mTrue\u001b[39;00m\n\u001b[1;32m      7\u001b[0m \u001b[38;5;28;01melif\u001b[39;00m event \u001b[38;5;241m==\u001b[39m cv2\u001b[38;5;241m.\u001b[39mEVENT_MOUSEMOVE:\n\u001b[0;32m----> 8\u001b[0m     \u001b[38;5;28;01mif\u001b[39;00m \u001b[43mdrawing\u001b[49m \u001b[38;5;241m==\u001b[39m \u001b[38;5;28;01mTrue\u001b[39;00m:\n\u001b[1;32m      9\u001b[0m         \u001b[38;5;28;01mif\u001b[39;00m mode \u001b[38;5;241m==\u001b[39m \u001b[38;5;124m\"\u001b[39m\u001b[38;5;124mob\u001b[39m\u001b[38;5;124m\"\u001b[39m:\n\u001b[1;32m     10\u001b[0m             \u001b[38;5;28;01mif\u001b[39;00m(x\u001b[38;5;241m>\u001b[39m\u001b[38;5;241m=\u001b[39m\u001b[38;5;241m0\u001b[39m \u001b[38;5;129;01mand\u001b[39;00m x\u001b[38;5;241m<\u001b[39m\u001b[38;5;241m=\u001b[39mw\u001b[38;5;241m-\u001b[39m\u001b[38;5;241m1\u001b[39m) \u001b[38;5;129;01mand\u001b[39;00m (y\u001b[38;5;241m>\u001b[39m\u001b[38;5;241m0\u001b[39m \u001b[38;5;129;01mand\u001b[39;00m y\u001b[38;5;241m<\u001b[39m\u001b[38;5;241m=\u001b[39mh\u001b[38;5;241m-\u001b[39m\u001b[38;5;241m1\u001b[39m):\n",
      "\u001b[0;31mNameError\u001b[0m: name 'drawing' is not defined"
     ]
    },
    {
     "ename": "NameError",
     "evalue": "name 'drawing' is not defined",
     "output_type": "error",
     "traceback": [
      "\u001b[0;31m---------------------------------------------------------------------------\u001b[0m",
      "\u001b[0;31mNameError\u001b[0m                                 Traceback (most recent call last)",
      "Cell \u001b[0;32mIn[23], line 8\u001b[0m, in \u001b[0;36mmark_seeds\u001b[0;34m(event, x, y, flags, param)\u001b[0m\n\u001b[1;32m      6\u001b[0m     drawing \u001b[38;5;241m=\u001b[39m \u001b[38;5;28;01mTrue\u001b[39;00m\n\u001b[1;32m      7\u001b[0m \u001b[38;5;28;01melif\u001b[39;00m event \u001b[38;5;241m==\u001b[39m cv2\u001b[38;5;241m.\u001b[39mEVENT_MOUSEMOVE:\n\u001b[0;32m----> 8\u001b[0m     \u001b[38;5;28;01mif\u001b[39;00m \u001b[43mdrawing\u001b[49m \u001b[38;5;241m==\u001b[39m \u001b[38;5;28;01mTrue\u001b[39;00m:\n\u001b[1;32m      9\u001b[0m         \u001b[38;5;28;01mif\u001b[39;00m mode \u001b[38;5;241m==\u001b[39m \u001b[38;5;124m\"\u001b[39m\u001b[38;5;124mob\u001b[39m\u001b[38;5;124m\"\u001b[39m:\n\u001b[1;32m     10\u001b[0m             \u001b[38;5;28;01mif\u001b[39;00m(x\u001b[38;5;241m>\u001b[39m\u001b[38;5;241m=\u001b[39m\u001b[38;5;241m0\u001b[39m \u001b[38;5;129;01mand\u001b[39;00m x\u001b[38;5;241m<\u001b[39m\u001b[38;5;241m=\u001b[39mw\u001b[38;5;241m-\u001b[39m\u001b[38;5;241m1\u001b[39m) \u001b[38;5;129;01mand\u001b[39;00m (y\u001b[38;5;241m>\u001b[39m\u001b[38;5;241m0\u001b[39m \u001b[38;5;129;01mand\u001b[39;00m y\u001b[38;5;241m<\u001b[39m\u001b[38;5;241m=\u001b[39mh\u001b[38;5;241m-\u001b[39m\u001b[38;5;241m1\u001b[39m):\n",
      "\u001b[0;31mNameError\u001b[0m: name 'drawing' is not defined"
     ]
    },
    {
     "ename": "NameError",
     "evalue": "name 'drawing' is not defined",
     "output_type": "error",
     "traceback": [
      "\u001b[0;31m---------------------------------------------------------------------------\u001b[0m",
      "\u001b[0;31mNameError\u001b[0m                                 Traceback (most recent call last)",
      "Cell \u001b[0;32mIn[23], line 8\u001b[0m, in \u001b[0;36mmark_seeds\u001b[0;34m(event, x, y, flags, param)\u001b[0m\n\u001b[1;32m      6\u001b[0m     drawing \u001b[38;5;241m=\u001b[39m \u001b[38;5;28;01mTrue\u001b[39;00m\n\u001b[1;32m      7\u001b[0m \u001b[38;5;28;01melif\u001b[39;00m event \u001b[38;5;241m==\u001b[39m cv2\u001b[38;5;241m.\u001b[39mEVENT_MOUSEMOVE:\n\u001b[0;32m----> 8\u001b[0m     \u001b[38;5;28;01mif\u001b[39;00m \u001b[43mdrawing\u001b[49m \u001b[38;5;241m==\u001b[39m \u001b[38;5;28;01mTrue\u001b[39;00m:\n\u001b[1;32m      9\u001b[0m         \u001b[38;5;28;01mif\u001b[39;00m mode \u001b[38;5;241m==\u001b[39m \u001b[38;5;124m\"\u001b[39m\u001b[38;5;124mob\u001b[39m\u001b[38;5;124m\"\u001b[39m:\n\u001b[1;32m     10\u001b[0m             \u001b[38;5;28;01mif\u001b[39;00m(x\u001b[38;5;241m>\u001b[39m\u001b[38;5;241m=\u001b[39m\u001b[38;5;241m0\u001b[39m \u001b[38;5;129;01mand\u001b[39;00m x\u001b[38;5;241m<\u001b[39m\u001b[38;5;241m=\u001b[39mw\u001b[38;5;241m-\u001b[39m\u001b[38;5;241m1\u001b[39m) \u001b[38;5;129;01mand\u001b[39;00m (y\u001b[38;5;241m>\u001b[39m\u001b[38;5;241m0\u001b[39m \u001b[38;5;129;01mand\u001b[39;00m y\u001b[38;5;241m<\u001b[39m\u001b[38;5;241m=\u001b[39mh\u001b[38;5;241m-\u001b[39m\u001b[38;5;241m1\u001b[39m):\n",
      "\u001b[0;31mNameError\u001b[0m: name 'drawing' is not defined"
     ]
    },
    {
     "ename": "NameError",
     "evalue": "name 'drawing' is not defined",
     "output_type": "error",
     "traceback": [
      "\u001b[0;31m---------------------------------------------------------------------------\u001b[0m",
      "\u001b[0;31mNameError\u001b[0m                                 Traceback (most recent call last)",
      "Cell \u001b[0;32mIn[23], line 8\u001b[0m, in \u001b[0;36mmark_seeds\u001b[0;34m(event, x, y, flags, param)\u001b[0m\n\u001b[1;32m      6\u001b[0m     drawing \u001b[38;5;241m=\u001b[39m \u001b[38;5;28;01mTrue\u001b[39;00m\n\u001b[1;32m      7\u001b[0m \u001b[38;5;28;01melif\u001b[39;00m event \u001b[38;5;241m==\u001b[39m cv2\u001b[38;5;241m.\u001b[39mEVENT_MOUSEMOVE:\n\u001b[0;32m----> 8\u001b[0m     \u001b[38;5;28;01mif\u001b[39;00m \u001b[43mdrawing\u001b[49m \u001b[38;5;241m==\u001b[39m \u001b[38;5;28;01mTrue\u001b[39;00m:\n\u001b[1;32m      9\u001b[0m         \u001b[38;5;28;01mif\u001b[39;00m mode \u001b[38;5;241m==\u001b[39m \u001b[38;5;124m\"\u001b[39m\u001b[38;5;124mob\u001b[39m\u001b[38;5;124m\"\u001b[39m:\n\u001b[1;32m     10\u001b[0m             \u001b[38;5;28;01mif\u001b[39;00m(x\u001b[38;5;241m>\u001b[39m\u001b[38;5;241m=\u001b[39m\u001b[38;5;241m0\u001b[39m \u001b[38;5;129;01mand\u001b[39;00m x\u001b[38;5;241m<\u001b[39m\u001b[38;5;241m=\u001b[39mw\u001b[38;5;241m-\u001b[39m\u001b[38;5;241m1\u001b[39m) \u001b[38;5;129;01mand\u001b[39;00m (y\u001b[38;5;241m>\u001b[39m\u001b[38;5;241m0\u001b[39m \u001b[38;5;129;01mand\u001b[39;00m y\u001b[38;5;241m<\u001b[39m\u001b[38;5;241m=\u001b[39mh\u001b[38;5;241m-\u001b[39m\u001b[38;5;241m1\u001b[39m):\n",
      "\u001b[0;31mNameError\u001b[0m: name 'drawing' is not defined"
     ]
    },
    {
     "ename": "NameError",
     "evalue": "name 'drawing' is not defined",
     "output_type": "error",
     "traceback": [
      "\u001b[0;31m---------------------------------------------------------------------------\u001b[0m",
      "\u001b[0;31mNameError\u001b[0m                                 Traceback (most recent call last)",
      "Cell \u001b[0;32mIn[23], line 8\u001b[0m, in \u001b[0;36mmark_seeds\u001b[0;34m(event, x, y, flags, param)\u001b[0m\n\u001b[1;32m      6\u001b[0m     drawing \u001b[38;5;241m=\u001b[39m \u001b[38;5;28;01mTrue\u001b[39;00m\n\u001b[1;32m      7\u001b[0m \u001b[38;5;28;01melif\u001b[39;00m event \u001b[38;5;241m==\u001b[39m cv2\u001b[38;5;241m.\u001b[39mEVENT_MOUSEMOVE:\n\u001b[0;32m----> 8\u001b[0m     \u001b[38;5;28;01mif\u001b[39;00m \u001b[43mdrawing\u001b[49m \u001b[38;5;241m==\u001b[39m \u001b[38;5;28;01mTrue\u001b[39;00m:\n\u001b[1;32m      9\u001b[0m         \u001b[38;5;28;01mif\u001b[39;00m mode \u001b[38;5;241m==\u001b[39m \u001b[38;5;124m\"\u001b[39m\u001b[38;5;124mob\u001b[39m\u001b[38;5;124m\"\u001b[39m:\n\u001b[1;32m     10\u001b[0m             \u001b[38;5;28;01mif\u001b[39;00m(x\u001b[38;5;241m>\u001b[39m\u001b[38;5;241m=\u001b[39m\u001b[38;5;241m0\u001b[39m \u001b[38;5;129;01mand\u001b[39;00m x\u001b[38;5;241m<\u001b[39m\u001b[38;5;241m=\u001b[39mw\u001b[38;5;241m-\u001b[39m\u001b[38;5;241m1\u001b[39m) \u001b[38;5;129;01mand\u001b[39;00m (y\u001b[38;5;241m>\u001b[39m\u001b[38;5;241m0\u001b[39m \u001b[38;5;129;01mand\u001b[39;00m y\u001b[38;5;241m<\u001b[39m\u001b[38;5;241m=\u001b[39mh\u001b[38;5;241m-\u001b[39m\u001b[38;5;241m1\u001b[39m):\n",
      "\u001b[0;31mNameError\u001b[0m: name 'drawing' is not defined"
     ]
    },
    {
     "ename": "NameError",
     "evalue": "name 'drawing' is not defined",
     "output_type": "error",
     "traceback": [
      "\u001b[0;31m---------------------------------------------------------------------------\u001b[0m",
      "\u001b[0;31mNameError\u001b[0m                                 Traceback (most recent call last)",
      "Cell \u001b[0;32mIn[23], line 8\u001b[0m, in \u001b[0;36mmark_seeds\u001b[0;34m(event, x, y, flags, param)\u001b[0m\n\u001b[1;32m      6\u001b[0m     drawing \u001b[38;5;241m=\u001b[39m \u001b[38;5;28;01mTrue\u001b[39;00m\n\u001b[1;32m      7\u001b[0m \u001b[38;5;28;01melif\u001b[39;00m event \u001b[38;5;241m==\u001b[39m cv2\u001b[38;5;241m.\u001b[39mEVENT_MOUSEMOVE:\n\u001b[0;32m----> 8\u001b[0m     \u001b[38;5;28;01mif\u001b[39;00m \u001b[43mdrawing\u001b[49m \u001b[38;5;241m==\u001b[39m \u001b[38;5;28;01mTrue\u001b[39;00m:\n\u001b[1;32m      9\u001b[0m         \u001b[38;5;28;01mif\u001b[39;00m mode \u001b[38;5;241m==\u001b[39m \u001b[38;5;124m\"\u001b[39m\u001b[38;5;124mob\u001b[39m\u001b[38;5;124m\"\u001b[39m:\n\u001b[1;32m     10\u001b[0m             \u001b[38;5;28;01mif\u001b[39;00m(x\u001b[38;5;241m>\u001b[39m\u001b[38;5;241m=\u001b[39m\u001b[38;5;241m0\u001b[39m \u001b[38;5;129;01mand\u001b[39;00m x\u001b[38;5;241m<\u001b[39m\u001b[38;5;241m=\u001b[39mw\u001b[38;5;241m-\u001b[39m\u001b[38;5;241m1\u001b[39m) \u001b[38;5;129;01mand\u001b[39;00m (y\u001b[38;5;241m>\u001b[39m\u001b[38;5;241m0\u001b[39m \u001b[38;5;129;01mand\u001b[39;00m y\u001b[38;5;241m<\u001b[39m\u001b[38;5;241m=\u001b[39mh\u001b[38;5;241m-\u001b[39m\u001b[38;5;241m1\u001b[39m):\n",
      "\u001b[0;31mNameError\u001b[0m: name 'drawing' is not defined"
     ]
    },
    {
     "ename": "NameError",
     "evalue": "name 'drawing' is not defined",
     "output_type": "error",
     "traceback": [
      "\u001b[0;31m---------------------------------------------------------------------------\u001b[0m",
      "\u001b[0;31mNameError\u001b[0m                                 Traceback (most recent call last)",
      "Cell \u001b[0;32mIn[23], line 8\u001b[0m, in \u001b[0;36mmark_seeds\u001b[0;34m(event, x, y, flags, param)\u001b[0m\n\u001b[1;32m      6\u001b[0m     drawing \u001b[38;5;241m=\u001b[39m \u001b[38;5;28;01mTrue\u001b[39;00m\n\u001b[1;32m      7\u001b[0m \u001b[38;5;28;01melif\u001b[39;00m event \u001b[38;5;241m==\u001b[39m cv2\u001b[38;5;241m.\u001b[39mEVENT_MOUSEMOVE:\n\u001b[0;32m----> 8\u001b[0m     \u001b[38;5;28;01mif\u001b[39;00m \u001b[43mdrawing\u001b[49m \u001b[38;5;241m==\u001b[39m \u001b[38;5;28;01mTrue\u001b[39;00m:\n\u001b[1;32m      9\u001b[0m         \u001b[38;5;28;01mif\u001b[39;00m mode \u001b[38;5;241m==\u001b[39m \u001b[38;5;124m\"\u001b[39m\u001b[38;5;124mob\u001b[39m\u001b[38;5;124m\"\u001b[39m:\n\u001b[1;32m     10\u001b[0m             \u001b[38;5;28;01mif\u001b[39;00m(x\u001b[38;5;241m>\u001b[39m\u001b[38;5;241m=\u001b[39m\u001b[38;5;241m0\u001b[39m \u001b[38;5;129;01mand\u001b[39;00m x\u001b[38;5;241m<\u001b[39m\u001b[38;5;241m=\u001b[39mw\u001b[38;5;241m-\u001b[39m\u001b[38;5;241m1\u001b[39m) \u001b[38;5;129;01mand\u001b[39;00m (y\u001b[38;5;241m>\u001b[39m\u001b[38;5;241m0\u001b[39m \u001b[38;5;129;01mand\u001b[39;00m y\u001b[38;5;241m<\u001b[39m\u001b[38;5;241m=\u001b[39mh\u001b[38;5;241m-\u001b[39m\u001b[38;5;241m1\u001b[39m):\n",
      "\u001b[0;31mNameError\u001b[0m: name 'drawing' is not defined"
     ]
    },
    {
     "ename": "NameError",
     "evalue": "name 'drawing' is not defined",
     "output_type": "error",
     "traceback": [
      "\u001b[0;31m---------------------------------------------------------------------------\u001b[0m",
      "\u001b[0;31mNameError\u001b[0m                                 Traceback (most recent call last)",
      "Cell \u001b[0;32mIn[23], line 8\u001b[0m, in \u001b[0;36mmark_seeds\u001b[0;34m(event, x, y, flags, param)\u001b[0m\n\u001b[1;32m      6\u001b[0m     drawing \u001b[38;5;241m=\u001b[39m \u001b[38;5;28;01mTrue\u001b[39;00m\n\u001b[1;32m      7\u001b[0m \u001b[38;5;28;01melif\u001b[39;00m event \u001b[38;5;241m==\u001b[39m cv2\u001b[38;5;241m.\u001b[39mEVENT_MOUSEMOVE:\n\u001b[0;32m----> 8\u001b[0m     \u001b[38;5;28;01mif\u001b[39;00m \u001b[43mdrawing\u001b[49m \u001b[38;5;241m==\u001b[39m \u001b[38;5;28;01mTrue\u001b[39;00m:\n\u001b[1;32m      9\u001b[0m         \u001b[38;5;28;01mif\u001b[39;00m mode \u001b[38;5;241m==\u001b[39m \u001b[38;5;124m\"\u001b[39m\u001b[38;5;124mob\u001b[39m\u001b[38;5;124m\"\u001b[39m:\n\u001b[1;32m     10\u001b[0m             \u001b[38;5;28;01mif\u001b[39;00m(x\u001b[38;5;241m>\u001b[39m\u001b[38;5;241m=\u001b[39m\u001b[38;5;241m0\u001b[39m \u001b[38;5;129;01mand\u001b[39;00m x\u001b[38;5;241m<\u001b[39m\u001b[38;5;241m=\u001b[39mw\u001b[38;5;241m-\u001b[39m\u001b[38;5;241m1\u001b[39m) \u001b[38;5;129;01mand\u001b[39;00m (y\u001b[38;5;241m>\u001b[39m\u001b[38;5;241m0\u001b[39m \u001b[38;5;129;01mand\u001b[39;00m y\u001b[38;5;241m<\u001b[39m\u001b[38;5;241m=\u001b[39mh\u001b[38;5;241m-\u001b[39m\u001b[38;5;241m1\u001b[39m):\n",
      "\u001b[0;31mNameError\u001b[0m: name 'drawing' is not defined"
     ]
    },
    {
     "ename": "NameError",
     "evalue": "name 'drawing' is not defined",
     "output_type": "error",
     "traceback": [
      "\u001b[0;31m---------------------------------------------------------------------------\u001b[0m",
      "\u001b[0;31mNameError\u001b[0m                                 Traceback (most recent call last)",
      "Cell \u001b[0;32mIn[23], line 8\u001b[0m, in \u001b[0;36mmark_seeds\u001b[0;34m(event, x, y, flags, param)\u001b[0m\n\u001b[1;32m      6\u001b[0m     drawing \u001b[38;5;241m=\u001b[39m \u001b[38;5;28;01mTrue\u001b[39;00m\n\u001b[1;32m      7\u001b[0m \u001b[38;5;28;01melif\u001b[39;00m event \u001b[38;5;241m==\u001b[39m cv2\u001b[38;5;241m.\u001b[39mEVENT_MOUSEMOVE:\n\u001b[0;32m----> 8\u001b[0m     \u001b[38;5;28;01mif\u001b[39;00m \u001b[43mdrawing\u001b[49m \u001b[38;5;241m==\u001b[39m \u001b[38;5;28;01mTrue\u001b[39;00m:\n\u001b[1;32m      9\u001b[0m         \u001b[38;5;28;01mif\u001b[39;00m mode \u001b[38;5;241m==\u001b[39m \u001b[38;5;124m\"\u001b[39m\u001b[38;5;124mob\u001b[39m\u001b[38;5;124m\"\u001b[39m:\n\u001b[1;32m     10\u001b[0m             \u001b[38;5;28;01mif\u001b[39;00m(x\u001b[38;5;241m>\u001b[39m\u001b[38;5;241m=\u001b[39m\u001b[38;5;241m0\u001b[39m \u001b[38;5;129;01mand\u001b[39;00m x\u001b[38;5;241m<\u001b[39m\u001b[38;5;241m=\u001b[39mw\u001b[38;5;241m-\u001b[39m\u001b[38;5;241m1\u001b[39m) \u001b[38;5;129;01mand\u001b[39;00m (y\u001b[38;5;241m>\u001b[39m\u001b[38;5;241m0\u001b[39m \u001b[38;5;129;01mand\u001b[39;00m y\u001b[38;5;241m<\u001b[39m\u001b[38;5;241m=\u001b[39mh\u001b[38;5;241m-\u001b[39m\u001b[38;5;241m1\u001b[39m):\n",
      "\u001b[0;31mNameError\u001b[0m: name 'drawing' is not defined"
     ]
    },
    {
     "ename": "NameError",
     "evalue": "name 'drawing' is not defined",
     "output_type": "error",
     "traceback": [
      "\u001b[0;31m---------------------------------------------------------------------------\u001b[0m",
      "\u001b[0;31mNameError\u001b[0m                                 Traceback (most recent call last)",
      "Cell \u001b[0;32mIn[23], line 8\u001b[0m, in \u001b[0;36mmark_seeds\u001b[0;34m(event, x, y, flags, param)\u001b[0m\n\u001b[1;32m      6\u001b[0m     drawing \u001b[38;5;241m=\u001b[39m \u001b[38;5;28;01mTrue\u001b[39;00m\n\u001b[1;32m      7\u001b[0m \u001b[38;5;28;01melif\u001b[39;00m event \u001b[38;5;241m==\u001b[39m cv2\u001b[38;5;241m.\u001b[39mEVENT_MOUSEMOVE:\n\u001b[0;32m----> 8\u001b[0m     \u001b[38;5;28;01mif\u001b[39;00m \u001b[43mdrawing\u001b[49m \u001b[38;5;241m==\u001b[39m \u001b[38;5;28;01mTrue\u001b[39;00m:\n\u001b[1;32m      9\u001b[0m         \u001b[38;5;28;01mif\u001b[39;00m mode \u001b[38;5;241m==\u001b[39m \u001b[38;5;124m\"\u001b[39m\u001b[38;5;124mob\u001b[39m\u001b[38;5;124m\"\u001b[39m:\n\u001b[1;32m     10\u001b[0m             \u001b[38;5;28;01mif\u001b[39;00m(x\u001b[38;5;241m>\u001b[39m\u001b[38;5;241m=\u001b[39m\u001b[38;5;241m0\u001b[39m \u001b[38;5;129;01mand\u001b[39;00m x\u001b[38;5;241m<\u001b[39m\u001b[38;5;241m=\u001b[39mw\u001b[38;5;241m-\u001b[39m\u001b[38;5;241m1\u001b[39m) \u001b[38;5;129;01mand\u001b[39;00m (y\u001b[38;5;241m>\u001b[39m\u001b[38;5;241m0\u001b[39m \u001b[38;5;129;01mand\u001b[39;00m y\u001b[38;5;241m<\u001b[39m\u001b[38;5;241m=\u001b[39mh\u001b[38;5;241m-\u001b[39m\u001b[38;5;241m1\u001b[39m):\n",
      "\u001b[0;31mNameError\u001b[0m: name 'drawing' is not defined"
     ]
    },
    {
     "ename": "NameError",
     "evalue": "name 'drawing' is not defined",
     "output_type": "error",
     "traceback": [
      "\u001b[0;31m---------------------------------------------------------------------------\u001b[0m",
      "\u001b[0;31mNameError\u001b[0m                                 Traceback (most recent call last)",
      "Cell \u001b[0;32mIn[23], line 8\u001b[0m, in \u001b[0;36mmark_seeds\u001b[0;34m(event, x, y, flags, param)\u001b[0m\n\u001b[1;32m      6\u001b[0m     drawing \u001b[38;5;241m=\u001b[39m \u001b[38;5;28;01mTrue\u001b[39;00m\n\u001b[1;32m      7\u001b[0m \u001b[38;5;28;01melif\u001b[39;00m event \u001b[38;5;241m==\u001b[39m cv2\u001b[38;5;241m.\u001b[39mEVENT_MOUSEMOVE:\n\u001b[0;32m----> 8\u001b[0m     \u001b[38;5;28;01mif\u001b[39;00m \u001b[43mdrawing\u001b[49m \u001b[38;5;241m==\u001b[39m \u001b[38;5;28;01mTrue\u001b[39;00m:\n\u001b[1;32m      9\u001b[0m         \u001b[38;5;28;01mif\u001b[39;00m mode \u001b[38;5;241m==\u001b[39m \u001b[38;5;124m\"\u001b[39m\u001b[38;5;124mob\u001b[39m\u001b[38;5;124m\"\u001b[39m:\n\u001b[1;32m     10\u001b[0m             \u001b[38;5;28;01mif\u001b[39;00m(x\u001b[38;5;241m>\u001b[39m\u001b[38;5;241m=\u001b[39m\u001b[38;5;241m0\u001b[39m \u001b[38;5;129;01mand\u001b[39;00m x\u001b[38;5;241m<\u001b[39m\u001b[38;5;241m=\u001b[39mw\u001b[38;5;241m-\u001b[39m\u001b[38;5;241m1\u001b[39m) \u001b[38;5;129;01mand\u001b[39;00m (y\u001b[38;5;241m>\u001b[39m\u001b[38;5;241m0\u001b[39m \u001b[38;5;129;01mand\u001b[39;00m y\u001b[38;5;241m<\u001b[39m\u001b[38;5;241m=\u001b[39mh\u001b[38;5;241m-\u001b[39m\u001b[38;5;241m1\u001b[39m):\n",
      "\u001b[0;31mNameError\u001b[0m: name 'drawing' is not defined"
     ]
    },
    {
     "ename": "NameError",
     "evalue": "name 'drawing' is not defined",
     "output_type": "error",
     "traceback": [
      "\u001b[0;31m---------------------------------------------------------------------------\u001b[0m",
      "\u001b[0;31mNameError\u001b[0m                                 Traceback (most recent call last)",
      "Cell \u001b[0;32mIn[23], line 8\u001b[0m, in \u001b[0;36mmark_seeds\u001b[0;34m(event, x, y, flags, param)\u001b[0m\n\u001b[1;32m      6\u001b[0m     drawing \u001b[38;5;241m=\u001b[39m \u001b[38;5;28;01mTrue\u001b[39;00m\n\u001b[1;32m      7\u001b[0m \u001b[38;5;28;01melif\u001b[39;00m event \u001b[38;5;241m==\u001b[39m cv2\u001b[38;5;241m.\u001b[39mEVENT_MOUSEMOVE:\n\u001b[0;32m----> 8\u001b[0m     \u001b[38;5;28;01mif\u001b[39;00m \u001b[43mdrawing\u001b[49m \u001b[38;5;241m==\u001b[39m \u001b[38;5;28;01mTrue\u001b[39;00m:\n\u001b[1;32m      9\u001b[0m         \u001b[38;5;28;01mif\u001b[39;00m mode \u001b[38;5;241m==\u001b[39m \u001b[38;5;124m\"\u001b[39m\u001b[38;5;124mob\u001b[39m\u001b[38;5;124m\"\u001b[39m:\n\u001b[1;32m     10\u001b[0m             \u001b[38;5;28;01mif\u001b[39;00m(x\u001b[38;5;241m>\u001b[39m\u001b[38;5;241m=\u001b[39m\u001b[38;5;241m0\u001b[39m \u001b[38;5;129;01mand\u001b[39;00m x\u001b[38;5;241m<\u001b[39m\u001b[38;5;241m=\u001b[39mw\u001b[38;5;241m-\u001b[39m\u001b[38;5;241m1\u001b[39m) \u001b[38;5;129;01mand\u001b[39;00m (y\u001b[38;5;241m>\u001b[39m\u001b[38;5;241m0\u001b[39m \u001b[38;5;129;01mand\u001b[39;00m y\u001b[38;5;241m<\u001b[39m\u001b[38;5;241m=\u001b[39mh\u001b[38;5;241m-\u001b[39m\u001b[38;5;241m1\u001b[39m):\n",
      "\u001b[0;31mNameError\u001b[0m: name 'drawing' is not defined"
     ]
    },
    {
     "ename": "NameError",
     "evalue": "name 'drawing' is not defined",
     "output_type": "error",
     "traceback": [
      "\u001b[0;31m---------------------------------------------------------------------------\u001b[0m",
      "\u001b[0;31mNameError\u001b[0m                                 Traceback (most recent call last)",
      "Cell \u001b[0;32mIn[23], line 8\u001b[0m, in \u001b[0;36mmark_seeds\u001b[0;34m(event, x, y, flags, param)\u001b[0m\n\u001b[1;32m      6\u001b[0m     drawing \u001b[38;5;241m=\u001b[39m \u001b[38;5;28;01mTrue\u001b[39;00m\n\u001b[1;32m      7\u001b[0m \u001b[38;5;28;01melif\u001b[39;00m event \u001b[38;5;241m==\u001b[39m cv2\u001b[38;5;241m.\u001b[39mEVENT_MOUSEMOVE:\n\u001b[0;32m----> 8\u001b[0m     \u001b[38;5;28;01mif\u001b[39;00m \u001b[43mdrawing\u001b[49m \u001b[38;5;241m==\u001b[39m \u001b[38;5;28;01mTrue\u001b[39;00m:\n\u001b[1;32m      9\u001b[0m         \u001b[38;5;28;01mif\u001b[39;00m mode \u001b[38;5;241m==\u001b[39m \u001b[38;5;124m\"\u001b[39m\u001b[38;5;124mob\u001b[39m\u001b[38;5;124m\"\u001b[39m:\n\u001b[1;32m     10\u001b[0m             \u001b[38;5;28;01mif\u001b[39;00m(x\u001b[38;5;241m>\u001b[39m\u001b[38;5;241m=\u001b[39m\u001b[38;5;241m0\u001b[39m \u001b[38;5;129;01mand\u001b[39;00m x\u001b[38;5;241m<\u001b[39m\u001b[38;5;241m=\u001b[39mw\u001b[38;5;241m-\u001b[39m\u001b[38;5;241m1\u001b[39m) \u001b[38;5;129;01mand\u001b[39;00m (y\u001b[38;5;241m>\u001b[39m\u001b[38;5;241m0\u001b[39m \u001b[38;5;129;01mand\u001b[39;00m y\u001b[38;5;241m<\u001b[39m\u001b[38;5;241m=\u001b[39mh\u001b[38;5;241m-\u001b[39m\u001b[38;5;241m1\u001b[39m):\n",
      "\u001b[0;31mNameError\u001b[0m: name 'drawing' is not defined"
     ]
    },
    {
     "ename": "NameError",
     "evalue": "name 'drawing' is not defined",
     "output_type": "error",
     "traceback": [
      "\u001b[0;31m---------------------------------------------------------------------------\u001b[0m",
      "\u001b[0;31mNameError\u001b[0m                                 Traceback (most recent call last)",
      "Cell \u001b[0;32mIn[23], line 8\u001b[0m, in \u001b[0;36mmark_seeds\u001b[0;34m(event, x, y, flags, param)\u001b[0m\n\u001b[1;32m      6\u001b[0m     drawing \u001b[38;5;241m=\u001b[39m \u001b[38;5;28;01mTrue\u001b[39;00m\n\u001b[1;32m      7\u001b[0m \u001b[38;5;28;01melif\u001b[39;00m event \u001b[38;5;241m==\u001b[39m cv2\u001b[38;5;241m.\u001b[39mEVENT_MOUSEMOVE:\n\u001b[0;32m----> 8\u001b[0m     \u001b[38;5;28;01mif\u001b[39;00m \u001b[43mdrawing\u001b[49m \u001b[38;5;241m==\u001b[39m \u001b[38;5;28;01mTrue\u001b[39;00m:\n\u001b[1;32m      9\u001b[0m         \u001b[38;5;28;01mif\u001b[39;00m mode \u001b[38;5;241m==\u001b[39m \u001b[38;5;124m\"\u001b[39m\u001b[38;5;124mob\u001b[39m\u001b[38;5;124m\"\u001b[39m:\n\u001b[1;32m     10\u001b[0m             \u001b[38;5;28;01mif\u001b[39;00m(x\u001b[38;5;241m>\u001b[39m\u001b[38;5;241m=\u001b[39m\u001b[38;5;241m0\u001b[39m \u001b[38;5;129;01mand\u001b[39;00m x\u001b[38;5;241m<\u001b[39m\u001b[38;5;241m=\u001b[39mw\u001b[38;5;241m-\u001b[39m\u001b[38;5;241m1\u001b[39m) \u001b[38;5;129;01mand\u001b[39;00m (y\u001b[38;5;241m>\u001b[39m\u001b[38;5;241m0\u001b[39m \u001b[38;5;129;01mand\u001b[39;00m y\u001b[38;5;241m<\u001b[39m\u001b[38;5;241m=\u001b[39mh\u001b[38;5;241m-\u001b[39m\u001b[38;5;241m1\u001b[39m):\n",
      "\u001b[0;31mNameError\u001b[0m: name 'drawing' is not defined"
     ]
    },
    {
     "ename": "NameError",
     "evalue": "name 'drawing' is not defined",
     "output_type": "error",
     "traceback": [
      "\u001b[0;31m---------------------------------------------------------------------------\u001b[0m",
      "\u001b[0;31mNameError\u001b[0m                                 Traceback (most recent call last)",
      "Cell \u001b[0;32mIn[23], line 8\u001b[0m, in \u001b[0;36mmark_seeds\u001b[0;34m(event, x, y, flags, param)\u001b[0m\n\u001b[1;32m      6\u001b[0m     drawing \u001b[38;5;241m=\u001b[39m \u001b[38;5;28;01mTrue\u001b[39;00m\n\u001b[1;32m      7\u001b[0m \u001b[38;5;28;01melif\u001b[39;00m event \u001b[38;5;241m==\u001b[39m cv2\u001b[38;5;241m.\u001b[39mEVENT_MOUSEMOVE:\n\u001b[0;32m----> 8\u001b[0m     \u001b[38;5;28;01mif\u001b[39;00m \u001b[43mdrawing\u001b[49m \u001b[38;5;241m==\u001b[39m \u001b[38;5;28;01mTrue\u001b[39;00m:\n\u001b[1;32m      9\u001b[0m         \u001b[38;5;28;01mif\u001b[39;00m mode \u001b[38;5;241m==\u001b[39m \u001b[38;5;124m\"\u001b[39m\u001b[38;5;124mob\u001b[39m\u001b[38;5;124m\"\u001b[39m:\n\u001b[1;32m     10\u001b[0m             \u001b[38;5;28;01mif\u001b[39;00m(x\u001b[38;5;241m>\u001b[39m\u001b[38;5;241m=\u001b[39m\u001b[38;5;241m0\u001b[39m \u001b[38;5;129;01mand\u001b[39;00m x\u001b[38;5;241m<\u001b[39m\u001b[38;5;241m=\u001b[39mw\u001b[38;5;241m-\u001b[39m\u001b[38;5;241m1\u001b[39m) \u001b[38;5;129;01mand\u001b[39;00m (y\u001b[38;5;241m>\u001b[39m\u001b[38;5;241m0\u001b[39m \u001b[38;5;129;01mand\u001b[39;00m y\u001b[38;5;241m<\u001b[39m\u001b[38;5;241m=\u001b[39mh\u001b[38;5;241m-\u001b[39m\u001b[38;5;241m1\u001b[39m):\n",
      "\u001b[0;31mNameError\u001b[0m: name 'drawing' is not defined"
     ]
    },
    {
     "ename": "NameError",
     "evalue": "name 'drawing' is not defined",
     "output_type": "error",
     "traceback": [
      "\u001b[0;31m---------------------------------------------------------------------------\u001b[0m",
      "\u001b[0;31mNameError\u001b[0m                                 Traceback (most recent call last)",
      "Cell \u001b[0;32mIn[23], line 8\u001b[0m, in \u001b[0;36mmark_seeds\u001b[0;34m(event, x, y, flags, param)\u001b[0m\n\u001b[1;32m      6\u001b[0m     drawing \u001b[38;5;241m=\u001b[39m \u001b[38;5;28;01mTrue\u001b[39;00m\n\u001b[1;32m      7\u001b[0m \u001b[38;5;28;01melif\u001b[39;00m event \u001b[38;5;241m==\u001b[39m cv2\u001b[38;5;241m.\u001b[39mEVENT_MOUSEMOVE:\n\u001b[0;32m----> 8\u001b[0m     \u001b[38;5;28;01mif\u001b[39;00m \u001b[43mdrawing\u001b[49m \u001b[38;5;241m==\u001b[39m \u001b[38;5;28;01mTrue\u001b[39;00m:\n\u001b[1;32m      9\u001b[0m         \u001b[38;5;28;01mif\u001b[39;00m mode \u001b[38;5;241m==\u001b[39m \u001b[38;5;124m\"\u001b[39m\u001b[38;5;124mob\u001b[39m\u001b[38;5;124m\"\u001b[39m:\n\u001b[1;32m     10\u001b[0m             \u001b[38;5;28;01mif\u001b[39;00m(x\u001b[38;5;241m>\u001b[39m\u001b[38;5;241m=\u001b[39m\u001b[38;5;241m0\u001b[39m \u001b[38;5;129;01mand\u001b[39;00m x\u001b[38;5;241m<\u001b[39m\u001b[38;5;241m=\u001b[39mw\u001b[38;5;241m-\u001b[39m\u001b[38;5;241m1\u001b[39m) \u001b[38;5;129;01mand\u001b[39;00m (y\u001b[38;5;241m>\u001b[39m\u001b[38;5;241m0\u001b[39m \u001b[38;5;129;01mand\u001b[39;00m y\u001b[38;5;241m<\u001b[39m\u001b[38;5;241m=\u001b[39mh\u001b[38;5;241m-\u001b[39m\u001b[38;5;241m1\u001b[39m):\n",
      "\u001b[0;31mNameError\u001b[0m: name 'drawing' is not defined"
     ]
    },
    {
     "ename": "NameError",
     "evalue": "name 'drawing' is not defined",
     "output_type": "error",
     "traceback": [
      "\u001b[0;31m---------------------------------------------------------------------------\u001b[0m",
      "\u001b[0;31mNameError\u001b[0m                                 Traceback (most recent call last)",
      "Cell \u001b[0;32mIn[23], line 8\u001b[0m, in \u001b[0;36mmark_seeds\u001b[0;34m(event, x, y, flags, param)\u001b[0m\n\u001b[1;32m      6\u001b[0m     drawing \u001b[38;5;241m=\u001b[39m \u001b[38;5;28;01mTrue\u001b[39;00m\n\u001b[1;32m      7\u001b[0m \u001b[38;5;28;01melif\u001b[39;00m event \u001b[38;5;241m==\u001b[39m cv2\u001b[38;5;241m.\u001b[39mEVENT_MOUSEMOVE:\n\u001b[0;32m----> 8\u001b[0m     \u001b[38;5;28;01mif\u001b[39;00m \u001b[43mdrawing\u001b[49m \u001b[38;5;241m==\u001b[39m \u001b[38;5;28;01mTrue\u001b[39;00m:\n\u001b[1;32m      9\u001b[0m         \u001b[38;5;28;01mif\u001b[39;00m mode \u001b[38;5;241m==\u001b[39m \u001b[38;5;124m\"\u001b[39m\u001b[38;5;124mob\u001b[39m\u001b[38;5;124m\"\u001b[39m:\n\u001b[1;32m     10\u001b[0m             \u001b[38;5;28;01mif\u001b[39;00m(x\u001b[38;5;241m>\u001b[39m\u001b[38;5;241m=\u001b[39m\u001b[38;5;241m0\u001b[39m \u001b[38;5;129;01mand\u001b[39;00m x\u001b[38;5;241m<\u001b[39m\u001b[38;5;241m=\u001b[39mw\u001b[38;5;241m-\u001b[39m\u001b[38;5;241m1\u001b[39m) \u001b[38;5;129;01mand\u001b[39;00m (y\u001b[38;5;241m>\u001b[39m\u001b[38;5;241m0\u001b[39m \u001b[38;5;129;01mand\u001b[39;00m y\u001b[38;5;241m<\u001b[39m\u001b[38;5;241m=\u001b[39mh\u001b[38;5;241m-\u001b[39m\u001b[38;5;241m1\u001b[39m):\n",
      "\u001b[0;31mNameError\u001b[0m: name 'drawing' is not defined"
     ]
    },
    {
     "ename": "NameError",
     "evalue": "name 'drawing' is not defined",
     "output_type": "error",
     "traceback": [
      "\u001b[0;31m---------------------------------------------------------------------------\u001b[0m",
      "\u001b[0;31mNameError\u001b[0m                                 Traceback (most recent call last)",
      "Cell \u001b[0;32mIn[23], line 8\u001b[0m, in \u001b[0;36mmark_seeds\u001b[0;34m(event, x, y, flags, param)\u001b[0m\n\u001b[1;32m      6\u001b[0m     drawing \u001b[38;5;241m=\u001b[39m \u001b[38;5;28;01mTrue\u001b[39;00m\n\u001b[1;32m      7\u001b[0m \u001b[38;5;28;01melif\u001b[39;00m event \u001b[38;5;241m==\u001b[39m cv2\u001b[38;5;241m.\u001b[39mEVENT_MOUSEMOVE:\n\u001b[0;32m----> 8\u001b[0m     \u001b[38;5;28;01mif\u001b[39;00m \u001b[43mdrawing\u001b[49m \u001b[38;5;241m==\u001b[39m \u001b[38;5;28;01mTrue\u001b[39;00m:\n\u001b[1;32m      9\u001b[0m         \u001b[38;5;28;01mif\u001b[39;00m mode \u001b[38;5;241m==\u001b[39m \u001b[38;5;124m\"\u001b[39m\u001b[38;5;124mob\u001b[39m\u001b[38;5;124m\"\u001b[39m:\n\u001b[1;32m     10\u001b[0m             \u001b[38;5;28;01mif\u001b[39;00m(x\u001b[38;5;241m>\u001b[39m\u001b[38;5;241m=\u001b[39m\u001b[38;5;241m0\u001b[39m \u001b[38;5;129;01mand\u001b[39;00m x\u001b[38;5;241m<\u001b[39m\u001b[38;5;241m=\u001b[39mw\u001b[38;5;241m-\u001b[39m\u001b[38;5;241m1\u001b[39m) \u001b[38;5;129;01mand\u001b[39;00m (y\u001b[38;5;241m>\u001b[39m\u001b[38;5;241m0\u001b[39m \u001b[38;5;129;01mand\u001b[39;00m y\u001b[38;5;241m<\u001b[39m\u001b[38;5;241m=\u001b[39mh\u001b[38;5;241m-\u001b[39m\u001b[38;5;241m1\u001b[39m):\n",
      "\u001b[0;31mNameError\u001b[0m: name 'drawing' is not defined"
     ]
    },
    {
     "ename": "NameError",
     "evalue": "name 'drawing' is not defined",
     "output_type": "error",
     "traceback": [
      "\u001b[0;31m---------------------------------------------------------------------------\u001b[0m",
      "\u001b[0;31mNameError\u001b[0m                                 Traceback (most recent call last)",
      "Cell \u001b[0;32mIn[23], line 8\u001b[0m, in \u001b[0;36mmark_seeds\u001b[0;34m(event, x, y, flags, param)\u001b[0m\n\u001b[1;32m      6\u001b[0m     drawing \u001b[38;5;241m=\u001b[39m \u001b[38;5;28;01mTrue\u001b[39;00m\n\u001b[1;32m      7\u001b[0m \u001b[38;5;28;01melif\u001b[39;00m event \u001b[38;5;241m==\u001b[39m cv2\u001b[38;5;241m.\u001b[39mEVENT_MOUSEMOVE:\n\u001b[0;32m----> 8\u001b[0m     \u001b[38;5;28;01mif\u001b[39;00m \u001b[43mdrawing\u001b[49m \u001b[38;5;241m==\u001b[39m \u001b[38;5;28;01mTrue\u001b[39;00m:\n\u001b[1;32m      9\u001b[0m         \u001b[38;5;28;01mif\u001b[39;00m mode \u001b[38;5;241m==\u001b[39m \u001b[38;5;124m\"\u001b[39m\u001b[38;5;124mob\u001b[39m\u001b[38;5;124m\"\u001b[39m:\n\u001b[1;32m     10\u001b[0m             \u001b[38;5;28;01mif\u001b[39;00m(x\u001b[38;5;241m>\u001b[39m\u001b[38;5;241m=\u001b[39m\u001b[38;5;241m0\u001b[39m \u001b[38;5;129;01mand\u001b[39;00m x\u001b[38;5;241m<\u001b[39m\u001b[38;5;241m=\u001b[39mw\u001b[38;5;241m-\u001b[39m\u001b[38;5;241m1\u001b[39m) \u001b[38;5;129;01mand\u001b[39;00m (y\u001b[38;5;241m>\u001b[39m\u001b[38;5;241m0\u001b[39m \u001b[38;5;129;01mand\u001b[39;00m y\u001b[38;5;241m<\u001b[39m\u001b[38;5;241m=\u001b[39mh\u001b[38;5;241m-\u001b[39m\u001b[38;5;241m1\u001b[39m):\n",
      "\u001b[0;31mNameError\u001b[0m: name 'drawing' is not defined"
     ]
    },
    {
     "ename": "NameError",
     "evalue": "name 'drawing' is not defined",
     "output_type": "error",
     "traceback": [
      "\u001b[0;31m---------------------------------------------------------------------------\u001b[0m",
      "\u001b[0;31mNameError\u001b[0m                                 Traceback (most recent call last)",
      "Cell \u001b[0;32mIn[23], line 8\u001b[0m, in \u001b[0;36mmark_seeds\u001b[0;34m(event, x, y, flags, param)\u001b[0m\n\u001b[1;32m      6\u001b[0m     drawing \u001b[38;5;241m=\u001b[39m \u001b[38;5;28;01mTrue\u001b[39;00m\n\u001b[1;32m      7\u001b[0m \u001b[38;5;28;01melif\u001b[39;00m event \u001b[38;5;241m==\u001b[39m cv2\u001b[38;5;241m.\u001b[39mEVENT_MOUSEMOVE:\n\u001b[0;32m----> 8\u001b[0m     \u001b[38;5;28;01mif\u001b[39;00m \u001b[43mdrawing\u001b[49m \u001b[38;5;241m==\u001b[39m \u001b[38;5;28;01mTrue\u001b[39;00m:\n\u001b[1;32m      9\u001b[0m         \u001b[38;5;28;01mif\u001b[39;00m mode \u001b[38;5;241m==\u001b[39m \u001b[38;5;124m\"\u001b[39m\u001b[38;5;124mob\u001b[39m\u001b[38;5;124m\"\u001b[39m:\n\u001b[1;32m     10\u001b[0m             \u001b[38;5;28;01mif\u001b[39;00m(x\u001b[38;5;241m>\u001b[39m\u001b[38;5;241m=\u001b[39m\u001b[38;5;241m0\u001b[39m \u001b[38;5;129;01mand\u001b[39;00m x\u001b[38;5;241m<\u001b[39m\u001b[38;5;241m=\u001b[39mw\u001b[38;5;241m-\u001b[39m\u001b[38;5;241m1\u001b[39m) \u001b[38;5;129;01mand\u001b[39;00m (y\u001b[38;5;241m>\u001b[39m\u001b[38;5;241m0\u001b[39m \u001b[38;5;129;01mand\u001b[39;00m y\u001b[38;5;241m<\u001b[39m\u001b[38;5;241m=\u001b[39mh\u001b[38;5;241m-\u001b[39m\u001b[38;5;241m1\u001b[39m):\n",
      "\u001b[0;31mNameError\u001b[0m: name 'drawing' is not defined"
     ]
    },
    {
     "ename": "NameError",
     "evalue": "name 'drawing' is not defined",
     "output_type": "error",
     "traceback": [
      "\u001b[0;31m---------------------------------------------------------------------------\u001b[0m",
      "\u001b[0;31mNameError\u001b[0m                                 Traceback (most recent call last)",
      "Cell \u001b[0;32mIn[23], line 8\u001b[0m, in \u001b[0;36mmark_seeds\u001b[0;34m(event, x, y, flags, param)\u001b[0m\n\u001b[1;32m      6\u001b[0m     drawing \u001b[38;5;241m=\u001b[39m \u001b[38;5;28;01mTrue\u001b[39;00m\n\u001b[1;32m      7\u001b[0m \u001b[38;5;28;01melif\u001b[39;00m event \u001b[38;5;241m==\u001b[39m cv2\u001b[38;5;241m.\u001b[39mEVENT_MOUSEMOVE:\n\u001b[0;32m----> 8\u001b[0m     \u001b[38;5;28;01mif\u001b[39;00m \u001b[43mdrawing\u001b[49m \u001b[38;5;241m==\u001b[39m \u001b[38;5;28;01mTrue\u001b[39;00m:\n\u001b[1;32m      9\u001b[0m         \u001b[38;5;28;01mif\u001b[39;00m mode \u001b[38;5;241m==\u001b[39m \u001b[38;5;124m\"\u001b[39m\u001b[38;5;124mob\u001b[39m\u001b[38;5;124m\"\u001b[39m:\n\u001b[1;32m     10\u001b[0m             \u001b[38;5;28;01mif\u001b[39;00m(x\u001b[38;5;241m>\u001b[39m\u001b[38;5;241m=\u001b[39m\u001b[38;5;241m0\u001b[39m \u001b[38;5;129;01mand\u001b[39;00m x\u001b[38;5;241m<\u001b[39m\u001b[38;5;241m=\u001b[39mw\u001b[38;5;241m-\u001b[39m\u001b[38;5;241m1\u001b[39m) \u001b[38;5;129;01mand\u001b[39;00m (y\u001b[38;5;241m>\u001b[39m\u001b[38;5;241m0\u001b[39m \u001b[38;5;129;01mand\u001b[39;00m y\u001b[38;5;241m<\u001b[39m\u001b[38;5;241m=\u001b[39mh\u001b[38;5;241m-\u001b[39m\u001b[38;5;241m1\u001b[39m):\n",
      "\u001b[0;31mNameError\u001b[0m: name 'drawing' is not defined"
     ]
    },
    {
     "ename": "NameError",
     "evalue": "name 'drawing' is not defined",
     "output_type": "error",
     "traceback": [
      "\u001b[0;31m---------------------------------------------------------------------------\u001b[0m",
      "\u001b[0;31mNameError\u001b[0m                                 Traceback (most recent call last)",
      "Cell \u001b[0;32mIn[23], line 8\u001b[0m, in \u001b[0;36mmark_seeds\u001b[0;34m(event, x, y, flags, param)\u001b[0m\n\u001b[1;32m      6\u001b[0m     drawing \u001b[38;5;241m=\u001b[39m \u001b[38;5;28;01mTrue\u001b[39;00m\n\u001b[1;32m      7\u001b[0m \u001b[38;5;28;01melif\u001b[39;00m event \u001b[38;5;241m==\u001b[39m cv2\u001b[38;5;241m.\u001b[39mEVENT_MOUSEMOVE:\n\u001b[0;32m----> 8\u001b[0m     \u001b[38;5;28;01mif\u001b[39;00m \u001b[43mdrawing\u001b[49m \u001b[38;5;241m==\u001b[39m \u001b[38;5;28;01mTrue\u001b[39;00m:\n\u001b[1;32m      9\u001b[0m         \u001b[38;5;28;01mif\u001b[39;00m mode \u001b[38;5;241m==\u001b[39m \u001b[38;5;124m\"\u001b[39m\u001b[38;5;124mob\u001b[39m\u001b[38;5;124m\"\u001b[39m:\n\u001b[1;32m     10\u001b[0m             \u001b[38;5;28;01mif\u001b[39;00m(x\u001b[38;5;241m>\u001b[39m\u001b[38;5;241m=\u001b[39m\u001b[38;5;241m0\u001b[39m \u001b[38;5;129;01mand\u001b[39;00m x\u001b[38;5;241m<\u001b[39m\u001b[38;5;241m=\u001b[39mw\u001b[38;5;241m-\u001b[39m\u001b[38;5;241m1\u001b[39m) \u001b[38;5;129;01mand\u001b[39;00m (y\u001b[38;5;241m>\u001b[39m\u001b[38;5;241m0\u001b[39m \u001b[38;5;129;01mand\u001b[39;00m y\u001b[38;5;241m<\u001b[39m\u001b[38;5;241m=\u001b[39mh\u001b[38;5;241m-\u001b[39m\u001b[38;5;241m1\u001b[39m):\n",
      "\u001b[0;31mNameError\u001b[0m: name 'drawing' is not defined"
     ]
    },
    {
     "ename": "NameError",
     "evalue": "name 'drawing' is not defined",
     "output_type": "error",
     "traceback": [
      "\u001b[0;31m---------------------------------------------------------------------------\u001b[0m",
      "\u001b[0;31mNameError\u001b[0m                                 Traceback (most recent call last)",
      "Cell \u001b[0;32mIn[23], line 8\u001b[0m, in \u001b[0;36mmark_seeds\u001b[0;34m(event, x, y, flags, param)\u001b[0m\n\u001b[1;32m      6\u001b[0m     drawing \u001b[38;5;241m=\u001b[39m \u001b[38;5;28;01mTrue\u001b[39;00m\n\u001b[1;32m      7\u001b[0m \u001b[38;5;28;01melif\u001b[39;00m event \u001b[38;5;241m==\u001b[39m cv2\u001b[38;5;241m.\u001b[39mEVENT_MOUSEMOVE:\n\u001b[0;32m----> 8\u001b[0m     \u001b[38;5;28;01mif\u001b[39;00m \u001b[43mdrawing\u001b[49m \u001b[38;5;241m==\u001b[39m \u001b[38;5;28;01mTrue\u001b[39;00m:\n\u001b[1;32m      9\u001b[0m         \u001b[38;5;28;01mif\u001b[39;00m mode \u001b[38;5;241m==\u001b[39m \u001b[38;5;124m\"\u001b[39m\u001b[38;5;124mob\u001b[39m\u001b[38;5;124m\"\u001b[39m:\n\u001b[1;32m     10\u001b[0m             \u001b[38;5;28;01mif\u001b[39;00m(x\u001b[38;5;241m>\u001b[39m\u001b[38;5;241m=\u001b[39m\u001b[38;5;241m0\u001b[39m \u001b[38;5;129;01mand\u001b[39;00m x\u001b[38;5;241m<\u001b[39m\u001b[38;5;241m=\u001b[39mw\u001b[38;5;241m-\u001b[39m\u001b[38;5;241m1\u001b[39m) \u001b[38;5;129;01mand\u001b[39;00m (y\u001b[38;5;241m>\u001b[39m\u001b[38;5;241m0\u001b[39m \u001b[38;5;129;01mand\u001b[39;00m y\u001b[38;5;241m<\u001b[39m\u001b[38;5;241m=\u001b[39mh\u001b[38;5;241m-\u001b[39m\u001b[38;5;241m1\u001b[39m):\n",
      "\u001b[0;31mNameError\u001b[0m: name 'drawing' is not defined"
     ]
    },
    {
     "ename": "NameError",
     "evalue": "name 'mode' is not defined",
     "output_type": "error",
     "traceback": [
      "\u001b[0;31m---------------------------------------------------------------------------\u001b[0m",
      "\u001b[0;31mNameError\u001b[0m                                 Traceback (most recent call last)",
      "Cell \u001b[0;32mIn[23], line 9\u001b[0m, in \u001b[0;36mmark_seeds\u001b[0;34m(event, x, y, flags, param)\u001b[0m\n\u001b[1;32m      7\u001b[0m \u001b[38;5;28;01melif\u001b[39;00m event \u001b[38;5;241m==\u001b[39m cv2\u001b[38;5;241m.\u001b[39mEVENT_MOUSEMOVE:\n\u001b[1;32m      8\u001b[0m     \u001b[38;5;28;01mif\u001b[39;00m drawing \u001b[38;5;241m==\u001b[39m \u001b[38;5;28;01mTrue\u001b[39;00m:\n\u001b[0;32m----> 9\u001b[0m         \u001b[38;5;28;01mif\u001b[39;00m \u001b[43mmode\u001b[49m \u001b[38;5;241m==\u001b[39m \u001b[38;5;124m\"\u001b[39m\u001b[38;5;124mob\u001b[39m\u001b[38;5;124m\"\u001b[39m:\n\u001b[1;32m     10\u001b[0m             \u001b[38;5;28;01mif\u001b[39;00m(x\u001b[38;5;241m>\u001b[39m\u001b[38;5;241m=\u001b[39m\u001b[38;5;241m0\u001b[39m \u001b[38;5;129;01mand\u001b[39;00m x\u001b[38;5;241m<\u001b[39m\u001b[38;5;241m=\u001b[39mw\u001b[38;5;241m-\u001b[39m\u001b[38;5;241m1\u001b[39m) \u001b[38;5;129;01mand\u001b[39;00m (y\u001b[38;5;241m>\u001b[39m\u001b[38;5;241m0\u001b[39m \u001b[38;5;129;01mand\u001b[39;00m y\u001b[38;5;241m<\u001b[39m\u001b[38;5;241m=\u001b[39mh\u001b[38;5;241m-\u001b[39m\u001b[38;5;241m1\u001b[39m):\n\u001b[1;32m     11\u001b[0m                 marked_ob_pixels\u001b[38;5;241m.\u001b[39mappend((y,x))\n",
      "\u001b[0;31mNameError\u001b[0m: name 'mode' is not defined"
     ]
    },
    {
     "ename": "NameError",
     "evalue": "name 'mode' is not defined",
     "output_type": "error",
     "traceback": [
      "\u001b[0;31m---------------------------------------------------------------------------\u001b[0m",
      "\u001b[0;31mNameError\u001b[0m                                 Traceback (most recent call last)",
      "Cell \u001b[0;32mIn[23], line 9\u001b[0m, in \u001b[0;36mmark_seeds\u001b[0;34m(event, x, y, flags, param)\u001b[0m\n\u001b[1;32m      7\u001b[0m \u001b[38;5;28;01melif\u001b[39;00m event \u001b[38;5;241m==\u001b[39m cv2\u001b[38;5;241m.\u001b[39mEVENT_MOUSEMOVE:\n\u001b[1;32m      8\u001b[0m     \u001b[38;5;28;01mif\u001b[39;00m drawing \u001b[38;5;241m==\u001b[39m \u001b[38;5;28;01mTrue\u001b[39;00m:\n\u001b[0;32m----> 9\u001b[0m         \u001b[38;5;28;01mif\u001b[39;00m \u001b[43mmode\u001b[49m \u001b[38;5;241m==\u001b[39m \u001b[38;5;124m\"\u001b[39m\u001b[38;5;124mob\u001b[39m\u001b[38;5;124m\"\u001b[39m:\n\u001b[1;32m     10\u001b[0m             \u001b[38;5;28;01mif\u001b[39;00m(x\u001b[38;5;241m>\u001b[39m\u001b[38;5;241m=\u001b[39m\u001b[38;5;241m0\u001b[39m \u001b[38;5;129;01mand\u001b[39;00m x\u001b[38;5;241m<\u001b[39m\u001b[38;5;241m=\u001b[39mw\u001b[38;5;241m-\u001b[39m\u001b[38;5;241m1\u001b[39m) \u001b[38;5;129;01mand\u001b[39;00m (y\u001b[38;5;241m>\u001b[39m\u001b[38;5;241m0\u001b[39m \u001b[38;5;129;01mand\u001b[39;00m y\u001b[38;5;241m<\u001b[39m\u001b[38;5;241m=\u001b[39mh\u001b[38;5;241m-\u001b[39m\u001b[38;5;241m1\u001b[39m):\n\u001b[1;32m     11\u001b[0m                 marked_ob_pixels\u001b[38;5;241m.\u001b[39mappend((y,x))\n",
      "\u001b[0;31mNameError\u001b[0m: name 'mode' is not defined"
     ]
    },
    {
     "ename": "NameError",
     "evalue": "name 'mode' is not defined",
     "output_type": "error",
     "traceback": [
      "\u001b[0;31m---------------------------------------------------------------------------\u001b[0m",
      "\u001b[0;31mNameError\u001b[0m                                 Traceback (most recent call last)",
      "Cell \u001b[0;32mIn[23], line 9\u001b[0m, in \u001b[0;36mmark_seeds\u001b[0;34m(event, x, y, flags, param)\u001b[0m\n\u001b[1;32m      7\u001b[0m \u001b[38;5;28;01melif\u001b[39;00m event \u001b[38;5;241m==\u001b[39m cv2\u001b[38;5;241m.\u001b[39mEVENT_MOUSEMOVE:\n\u001b[1;32m      8\u001b[0m     \u001b[38;5;28;01mif\u001b[39;00m drawing \u001b[38;5;241m==\u001b[39m \u001b[38;5;28;01mTrue\u001b[39;00m:\n\u001b[0;32m----> 9\u001b[0m         \u001b[38;5;28;01mif\u001b[39;00m \u001b[43mmode\u001b[49m \u001b[38;5;241m==\u001b[39m \u001b[38;5;124m\"\u001b[39m\u001b[38;5;124mob\u001b[39m\u001b[38;5;124m\"\u001b[39m:\n\u001b[1;32m     10\u001b[0m             \u001b[38;5;28;01mif\u001b[39;00m(x\u001b[38;5;241m>\u001b[39m\u001b[38;5;241m=\u001b[39m\u001b[38;5;241m0\u001b[39m \u001b[38;5;129;01mand\u001b[39;00m x\u001b[38;5;241m<\u001b[39m\u001b[38;5;241m=\u001b[39mw\u001b[38;5;241m-\u001b[39m\u001b[38;5;241m1\u001b[39m) \u001b[38;5;129;01mand\u001b[39;00m (y\u001b[38;5;241m>\u001b[39m\u001b[38;5;241m0\u001b[39m \u001b[38;5;129;01mand\u001b[39;00m y\u001b[38;5;241m<\u001b[39m\u001b[38;5;241m=\u001b[39mh\u001b[38;5;241m-\u001b[39m\u001b[38;5;241m1\u001b[39m):\n\u001b[1;32m     11\u001b[0m                 marked_ob_pixels\u001b[38;5;241m.\u001b[39mappend((y,x))\n",
      "\u001b[0;31mNameError\u001b[0m: name 'mode' is not defined"
     ]
    },
    {
     "ename": "NameError",
     "evalue": "name 'mode' is not defined",
     "output_type": "error",
     "traceback": [
      "\u001b[0;31m---------------------------------------------------------------------------\u001b[0m",
      "\u001b[0;31mNameError\u001b[0m                                 Traceback (most recent call last)",
      "Cell \u001b[0;32mIn[23], line 9\u001b[0m, in \u001b[0;36mmark_seeds\u001b[0;34m(event, x, y, flags, param)\u001b[0m\n\u001b[1;32m      7\u001b[0m \u001b[38;5;28;01melif\u001b[39;00m event \u001b[38;5;241m==\u001b[39m cv2\u001b[38;5;241m.\u001b[39mEVENT_MOUSEMOVE:\n\u001b[1;32m      8\u001b[0m     \u001b[38;5;28;01mif\u001b[39;00m drawing \u001b[38;5;241m==\u001b[39m \u001b[38;5;28;01mTrue\u001b[39;00m:\n\u001b[0;32m----> 9\u001b[0m         \u001b[38;5;28;01mif\u001b[39;00m \u001b[43mmode\u001b[49m \u001b[38;5;241m==\u001b[39m \u001b[38;5;124m\"\u001b[39m\u001b[38;5;124mob\u001b[39m\u001b[38;5;124m\"\u001b[39m:\n\u001b[1;32m     10\u001b[0m             \u001b[38;5;28;01mif\u001b[39;00m(x\u001b[38;5;241m>\u001b[39m\u001b[38;5;241m=\u001b[39m\u001b[38;5;241m0\u001b[39m \u001b[38;5;129;01mand\u001b[39;00m x\u001b[38;5;241m<\u001b[39m\u001b[38;5;241m=\u001b[39mw\u001b[38;5;241m-\u001b[39m\u001b[38;5;241m1\u001b[39m) \u001b[38;5;129;01mand\u001b[39;00m (y\u001b[38;5;241m>\u001b[39m\u001b[38;5;241m0\u001b[39m \u001b[38;5;129;01mand\u001b[39;00m y\u001b[38;5;241m<\u001b[39m\u001b[38;5;241m=\u001b[39mh\u001b[38;5;241m-\u001b[39m\u001b[38;5;241m1\u001b[39m):\n\u001b[1;32m     11\u001b[0m                 marked_ob_pixels\u001b[38;5;241m.\u001b[39mappend((y,x))\n",
      "\u001b[0;31mNameError\u001b[0m: name 'mode' is not defined"
     ]
    },
    {
     "ename": "NameError",
     "evalue": "name 'mode' is not defined",
     "output_type": "error",
     "traceback": [
      "\u001b[0;31m---------------------------------------------------------------------------\u001b[0m",
      "\u001b[0;31mNameError\u001b[0m                                 Traceback (most recent call last)",
      "Cell \u001b[0;32mIn[23], line 19\u001b[0m, in \u001b[0;36mmark_seeds\u001b[0;34m(event, x, y, flags, param)\u001b[0m\n\u001b[1;32m     17\u001b[0m \u001b[38;5;28;01melif\u001b[39;00m event \u001b[38;5;241m==\u001b[39m cv2\u001b[38;5;241m.\u001b[39mEVENT_LBUTTONUP:\n\u001b[1;32m     18\u001b[0m     drawing \u001b[38;5;241m=\u001b[39m \u001b[38;5;28;01mFalse\u001b[39;00m\n\u001b[0;32m---> 19\u001b[0m     \u001b[38;5;28;01mif\u001b[39;00m \u001b[43mmode\u001b[49m \u001b[38;5;241m==\u001b[39m \u001b[38;5;124m\"\u001b[39m\u001b[38;5;124mob\u001b[39m\u001b[38;5;124m\"\u001b[39m:\n\u001b[1;32m     20\u001b[0m         cv2\u001b[38;5;241m.\u001b[39mline(I_dummy,(x\u001b[38;5;241m-\u001b[39m\u001b[38;5;241m3\u001b[39m,y),(x\u001b[38;5;241m+\u001b[39m\u001b[38;5;241m3\u001b[39m,y),(\u001b[38;5;241m0\u001b[39m,\u001b[38;5;241m0\u001b[39m,\u001b[38;5;241m255\u001b[39m))\n\u001b[1;32m     21\u001b[0m     \u001b[38;5;28;01melse\u001b[39;00m:\n",
      "\u001b[0;31mNameError\u001b[0m: name 'mode' is not defined"
     ]
    },
    {
     "ename": "NameError",
     "evalue": "name 'mode' is not defined",
     "output_type": "error",
     "traceback": [
      "\u001b[0;31m---------------------------------------------------------------------------\u001b[0m",
      "\u001b[0;31mNameError\u001b[0m                                 Traceback (most recent call last)",
      "Cell \u001b[0;32mIn[23], line 9\u001b[0m, in \u001b[0;36mmark_seeds\u001b[0;34m(event, x, y, flags, param)\u001b[0m\n\u001b[1;32m      7\u001b[0m \u001b[38;5;28;01melif\u001b[39;00m event \u001b[38;5;241m==\u001b[39m cv2\u001b[38;5;241m.\u001b[39mEVENT_MOUSEMOVE:\n\u001b[1;32m      8\u001b[0m     \u001b[38;5;28;01mif\u001b[39;00m drawing \u001b[38;5;241m==\u001b[39m \u001b[38;5;28;01mTrue\u001b[39;00m:\n\u001b[0;32m----> 9\u001b[0m         \u001b[38;5;28;01mif\u001b[39;00m \u001b[43mmode\u001b[49m \u001b[38;5;241m==\u001b[39m \u001b[38;5;124m\"\u001b[39m\u001b[38;5;124mob\u001b[39m\u001b[38;5;124m\"\u001b[39m:\n\u001b[1;32m     10\u001b[0m             \u001b[38;5;28;01mif\u001b[39;00m(x\u001b[38;5;241m>\u001b[39m\u001b[38;5;241m=\u001b[39m\u001b[38;5;241m0\u001b[39m \u001b[38;5;129;01mand\u001b[39;00m x\u001b[38;5;241m<\u001b[39m\u001b[38;5;241m=\u001b[39mw\u001b[38;5;241m-\u001b[39m\u001b[38;5;241m1\u001b[39m) \u001b[38;5;129;01mand\u001b[39;00m (y\u001b[38;5;241m>\u001b[39m\u001b[38;5;241m0\u001b[39m \u001b[38;5;129;01mand\u001b[39;00m y\u001b[38;5;241m<\u001b[39m\u001b[38;5;241m=\u001b[39mh\u001b[38;5;241m-\u001b[39m\u001b[38;5;241m1\u001b[39m):\n\u001b[1;32m     11\u001b[0m                 marked_ob_pixels\u001b[38;5;241m.\u001b[39mappend((y,x))\n",
      "\u001b[0;31mNameError\u001b[0m: name 'mode' is not defined"
     ]
    },
    {
     "ename": "NameError",
     "evalue": "name 'mode' is not defined",
     "output_type": "error",
     "traceback": [
      "\u001b[0;31m---------------------------------------------------------------------------\u001b[0m",
      "\u001b[0;31mNameError\u001b[0m                                 Traceback (most recent call last)",
      "Cell \u001b[0;32mIn[23], line 9\u001b[0m, in \u001b[0;36mmark_seeds\u001b[0;34m(event, x, y, flags, param)\u001b[0m\n\u001b[1;32m      7\u001b[0m \u001b[38;5;28;01melif\u001b[39;00m event \u001b[38;5;241m==\u001b[39m cv2\u001b[38;5;241m.\u001b[39mEVENT_MOUSEMOVE:\n\u001b[1;32m      8\u001b[0m     \u001b[38;5;28;01mif\u001b[39;00m drawing \u001b[38;5;241m==\u001b[39m \u001b[38;5;28;01mTrue\u001b[39;00m:\n\u001b[0;32m----> 9\u001b[0m         \u001b[38;5;28;01mif\u001b[39;00m \u001b[43mmode\u001b[49m \u001b[38;5;241m==\u001b[39m \u001b[38;5;124m\"\u001b[39m\u001b[38;5;124mob\u001b[39m\u001b[38;5;124m\"\u001b[39m:\n\u001b[1;32m     10\u001b[0m             \u001b[38;5;28;01mif\u001b[39;00m(x\u001b[38;5;241m>\u001b[39m\u001b[38;5;241m=\u001b[39m\u001b[38;5;241m0\u001b[39m \u001b[38;5;129;01mand\u001b[39;00m x\u001b[38;5;241m<\u001b[39m\u001b[38;5;241m=\u001b[39mw\u001b[38;5;241m-\u001b[39m\u001b[38;5;241m1\u001b[39m) \u001b[38;5;129;01mand\u001b[39;00m (y\u001b[38;5;241m>\u001b[39m\u001b[38;5;241m0\u001b[39m \u001b[38;5;129;01mand\u001b[39;00m y\u001b[38;5;241m<\u001b[39m\u001b[38;5;241m=\u001b[39mh\u001b[38;5;241m-\u001b[39m\u001b[38;5;241m1\u001b[39m):\n\u001b[1;32m     11\u001b[0m                 marked_ob_pixels\u001b[38;5;241m.\u001b[39mappend((y,x))\n",
      "\u001b[0;31mNameError\u001b[0m: name 'mode' is not defined"
     ]
    },
    {
     "ename": "NameError",
     "evalue": "name 'mode' is not defined",
     "output_type": "error",
     "traceback": [
      "\u001b[0;31m---------------------------------------------------------------------------\u001b[0m",
      "\u001b[0;31mNameError\u001b[0m                                 Traceback (most recent call last)",
      "Cell \u001b[0;32mIn[23], line 9\u001b[0m, in \u001b[0;36mmark_seeds\u001b[0;34m(event, x, y, flags, param)\u001b[0m\n\u001b[1;32m      7\u001b[0m \u001b[38;5;28;01melif\u001b[39;00m event \u001b[38;5;241m==\u001b[39m cv2\u001b[38;5;241m.\u001b[39mEVENT_MOUSEMOVE:\n\u001b[1;32m      8\u001b[0m     \u001b[38;5;28;01mif\u001b[39;00m drawing \u001b[38;5;241m==\u001b[39m \u001b[38;5;28;01mTrue\u001b[39;00m:\n\u001b[0;32m----> 9\u001b[0m         \u001b[38;5;28;01mif\u001b[39;00m \u001b[43mmode\u001b[49m \u001b[38;5;241m==\u001b[39m \u001b[38;5;124m\"\u001b[39m\u001b[38;5;124mob\u001b[39m\u001b[38;5;124m\"\u001b[39m:\n\u001b[1;32m     10\u001b[0m             \u001b[38;5;28;01mif\u001b[39;00m(x\u001b[38;5;241m>\u001b[39m\u001b[38;5;241m=\u001b[39m\u001b[38;5;241m0\u001b[39m \u001b[38;5;129;01mand\u001b[39;00m x\u001b[38;5;241m<\u001b[39m\u001b[38;5;241m=\u001b[39mw\u001b[38;5;241m-\u001b[39m\u001b[38;5;241m1\u001b[39m) \u001b[38;5;129;01mand\u001b[39;00m (y\u001b[38;5;241m>\u001b[39m\u001b[38;5;241m0\u001b[39m \u001b[38;5;129;01mand\u001b[39;00m y\u001b[38;5;241m<\u001b[39m\u001b[38;5;241m=\u001b[39mh\u001b[38;5;241m-\u001b[39m\u001b[38;5;241m1\u001b[39m):\n\u001b[1;32m     11\u001b[0m                 marked_ob_pixels\u001b[38;5;241m.\u001b[39mappend((y,x))\n",
      "\u001b[0;31mNameError\u001b[0m: name 'mode' is not defined"
     ]
    },
    {
     "ename": "NameError",
     "evalue": "name 'mode' is not defined",
     "output_type": "error",
     "traceback": [
      "\u001b[0;31m---------------------------------------------------------------------------\u001b[0m",
      "\u001b[0;31mNameError\u001b[0m                                 Traceback (most recent call last)",
      "Cell \u001b[0;32mIn[23], line 9\u001b[0m, in \u001b[0;36mmark_seeds\u001b[0;34m(event, x, y, flags, param)\u001b[0m\n\u001b[1;32m      7\u001b[0m \u001b[38;5;28;01melif\u001b[39;00m event \u001b[38;5;241m==\u001b[39m cv2\u001b[38;5;241m.\u001b[39mEVENT_MOUSEMOVE:\n\u001b[1;32m      8\u001b[0m     \u001b[38;5;28;01mif\u001b[39;00m drawing \u001b[38;5;241m==\u001b[39m \u001b[38;5;28;01mTrue\u001b[39;00m:\n\u001b[0;32m----> 9\u001b[0m         \u001b[38;5;28;01mif\u001b[39;00m \u001b[43mmode\u001b[49m \u001b[38;5;241m==\u001b[39m \u001b[38;5;124m\"\u001b[39m\u001b[38;5;124mob\u001b[39m\u001b[38;5;124m\"\u001b[39m:\n\u001b[1;32m     10\u001b[0m             \u001b[38;5;28;01mif\u001b[39;00m(x\u001b[38;5;241m>\u001b[39m\u001b[38;5;241m=\u001b[39m\u001b[38;5;241m0\u001b[39m \u001b[38;5;129;01mand\u001b[39;00m x\u001b[38;5;241m<\u001b[39m\u001b[38;5;241m=\u001b[39mw\u001b[38;5;241m-\u001b[39m\u001b[38;5;241m1\u001b[39m) \u001b[38;5;129;01mand\u001b[39;00m (y\u001b[38;5;241m>\u001b[39m\u001b[38;5;241m0\u001b[39m \u001b[38;5;129;01mand\u001b[39;00m y\u001b[38;5;241m<\u001b[39m\u001b[38;5;241m=\u001b[39mh\u001b[38;5;241m-\u001b[39m\u001b[38;5;241m1\u001b[39m):\n\u001b[1;32m     11\u001b[0m                 marked_ob_pixels\u001b[38;5;241m.\u001b[39mappend((y,x))\n",
      "\u001b[0;31mNameError\u001b[0m: name 'mode' is not defined"
     ]
    },
    {
     "ename": "NameError",
     "evalue": "name 'mode' is not defined",
     "output_type": "error",
     "traceback": [
      "\u001b[0;31m---------------------------------------------------------------------------\u001b[0m",
      "\u001b[0;31mNameError\u001b[0m                                 Traceback (most recent call last)",
      "Cell \u001b[0;32mIn[23], line 9\u001b[0m, in \u001b[0;36mmark_seeds\u001b[0;34m(event, x, y, flags, param)\u001b[0m\n\u001b[1;32m      7\u001b[0m \u001b[38;5;28;01melif\u001b[39;00m event \u001b[38;5;241m==\u001b[39m cv2\u001b[38;5;241m.\u001b[39mEVENT_MOUSEMOVE:\n\u001b[1;32m      8\u001b[0m     \u001b[38;5;28;01mif\u001b[39;00m drawing \u001b[38;5;241m==\u001b[39m \u001b[38;5;28;01mTrue\u001b[39;00m:\n\u001b[0;32m----> 9\u001b[0m         \u001b[38;5;28;01mif\u001b[39;00m \u001b[43mmode\u001b[49m \u001b[38;5;241m==\u001b[39m \u001b[38;5;124m\"\u001b[39m\u001b[38;5;124mob\u001b[39m\u001b[38;5;124m\"\u001b[39m:\n\u001b[1;32m     10\u001b[0m             \u001b[38;5;28;01mif\u001b[39;00m(x\u001b[38;5;241m>\u001b[39m\u001b[38;5;241m=\u001b[39m\u001b[38;5;241m0\u001b[39m \u001b[38;5;129;01mand\u001b[39;00m x\u001b[38;5;241m<\u001b[39m\u001b[38;5;241m=\u001b[39mw\u001b[38;5;241m-\u001b[39m\u001b[38;5;241m1\u001b[39m) \u001b[38;5;129;01mand\u001b[39;00m (y\u001b[38;5;241m>\u001b[39m\u001b[38;5;241m0\u001b[39m \u001b[38;5;129;01mand\u001b[39;00m y\u001b[38;5;241m<\u001b[39m\u001b[38;5;241m=\u001b[39mh\u001b[38;5;241m-\u001b[39m\u001b[38;5;241m1\u001b[39m):\n\u001b[1;32m     11\u001b[0m                 marked_ob_pixels\u001b[38;5;241m.\u001b[39mappend((y,x))\n",
      "\u001b[0;31mNameError\u001b[0m: name 'mode' is not defined"
     ]
    },
    {
     "ename": "NameError",
     "evalue": "name 'mode' is not defined",
     "output_type": "error",
     "traceback": [
      "\u001b[0;31m---------------------------------------------------------------------------\u001b[0m",
      "\u001b[0;31mNameError\u001b[0m                                 Traceback (most recent call last)",
      "Cell \u001b[0;32mIn[23], line 9\u001b[0m, in \u001b[0;36mmark_seeds\u001b[0;34m(event, x, y, flags, param)\u001b[0m\n\u001b[1;32m      7\u001b[0m \u001b[38;5;28;01melif\u001b[39;00m event \u001b[38;5;241m==\u001b[39m cv2\u001b[38;5;241m.\u001b[39mEVENT_MOUSEMOVE:\n\u001b[1;32m      8\u001b[0m     \u001b[38;5;28;01mif\u001b[39;00m drawing \u001b[38;5;241m==\u001b[39m \u001b[38;5;28;01mTrue\u001b[39;00m:\n\u001b[0;32m----> 9\u001b[0m         \u001b[38;5;28;01mif\u001b[39;00m \u001b[43mmode\u001b[49m \u001b[38;5;241m==\u001b[39m \u001b[38;5;124m\"\u001b[39m\u001b[38;5;124mob\u001b[39m\u001b[38;5;124m\"\u001b[39m:\n\u001b[1;32m     10\u001b[0m             \u001b[38;5;28;01mif\u001b[39;00m(x\u001b[38;5;241m>\u001b[39m\u001b[38;5;241m=\u001b[39m\u001b[38;5;241m0\u001b[39m \u001b[38;5;129;01mand\u001b[39;00m x\u001b[38;5;241m<\u001b[39m\u001b[38;5;241m=\u001b[39mw\u001b[38;5;241m-\u001b[39m\u001b[38;5;241m1\u001b[39m) \u001b[38;5;129;01mand\u001b[39;00m (y\u001b[38;5;241m>\u001b[39m\u001b[38;5;241m0\u001b[39m \u001b[38;5;129;01mand\u001b[39;00m y\u001b[38;5;241m<\u001b[39m\u001b[38;5;241m=\u001b[39mh\u001b[38;5;241m-\u001b[39m\u001b[38;5;241m1\u001b[39m):\n\u001b[1;32m     11\u001b[0m                 marked_ob_pixels\u001b[38;5;241m.\u001b[39mappend((y,x))\n",
      "\u001b[0;31mNameError\u001b[0m: name 'mode' is not defined"
     ]
    },
    {
     "ename": "NameError",
     "evalue": "name 'mode' is not defined",
     "output_type": "error",
     "traceback": [
      "\u001b[0;31m---------------------------------------------------------------------------\u001b[0m",
      "\u001b[0;31mNameError\u001b[0m                                 Traceback (most recent call last)",
      "Cell \u001b[0;32mIn[23], line 9\u001b[0m, in \u001b[0;36mmark_seeds\u001b[0;34m(event, x, y, flags, param)\u001b[0m\n\u001b[1;32m      7\u001b[0m \u001b[38;5;28;01melif\u001b[39;00m event \u001b[38;5;241m==\u001b[39m cv2\u001b[38;5;241m.\u001b[39mEVENT_MOUSEMOVE:\n\u001b[1;32m      8\u001b[0m     \u001b[38;5;28;01mif\u001b[39;00m drawing \u001b[38;5;241m==\u001b[39m \u001b[38;5;28;01mTrue\u001b[39;00m:\n\u001b[0;32m----> 9\u001b[0m         \u001b[38;5;28;01mif\u001b[39;00m \u001b[43mmode\u001b[49m \u001b[38;5;241m==\u001b[39m \u001b[38;5;124m\"\u001b[39m\u001b[38;5;124mob\u001b[39m\u001b[38;5;124m\"\u001b[39m:\n\u001b[1;32m     10\u001b[0m             \u001b[38;5;28;01mif\u001b[39;00m(x\u001b[38;5;241m>\u001b[39m\u001b[38;5;241m=\u001b[39m\u001b[38;5;241m0\u001b[39m \u001b[38;5;129;01mand\u001b[39;00m x\u001b[38;5;241m<\u001b[39m\u001b[38;5;241m=\u001b[39mw\u001b[38;5;241m-\u001b[39m\u001b[38;5;241m1\u001b[39m) \u001b[38;5;129;01mand\u001b[39;00m (y\u001b[38;5;241m>\u001b[39m\u001b[38;5;241m0\u001b[39m \u001b[38;5;129;01mand\u001b[39;00m y\u001b[38;5;241m<\u001b[39m\u001b[38;5;241m=\u001b[39mh\u001b[38;5;241m-\u001b[39m\u001b[38;5;241m1\u001b[39m):\n\u001b[1;32m     11\u001b[0m                 marked_ob_pixels\u001b[38;5;241m.\u001b[39mappend((y,x))\n",
      "\u001b[0;31mNameError\u001b[0m: name 'mode' is not defined"
     ]
    },
    {
     "ename": "NameError",
     "evalue": "name 'mode' is not defined",
     "output_type": "error",
     "traceback": [
      "\u001b[0;31m---------------------------------------------------------------------------\u001b[0m",
      "\u001b[0;31mNameError\u001b[0m                                 Traceback (most recent call last)",
      "Cell \u001b[0;32mIn[23], line 9\u001b[0m, in \u001b[0;36mmark_seeds\u001b[0;34m(event, x, y, flags, param)\u001b[0m\n\u001b[1;32m      7\u001b[0m \u001b[38;5;28;01melif\u001b[39;00m event \u001b[38;5;241m==\u001b[39m cv2\u001b[38;5;241m.\u001b[39mEVENT_MOUSEMOVE:\n\u001b[1;32m      8\u001b[0m     \u001b[38;5;28;01mif\u001b[39;00m drawing \u001b[38;5;241m==\u001b[39m \u001b[38;5;28;01mTrue\u001b[39;00m:\n\u001b[0;32m----> 9\u001b[0m         \u001b[38;5;28;01mif\u001b[39;00m \u001b[43mmode\u001b[49m \u001b[38;5;241m==\u001b[39m \u001b[38;5;124m\"\u001b[39m\u001b[38;5;124mob\u001b[39m\u001b[38;5;124m\"\u001b[39m:\n\u001b[1;32m     10\u001b[0m             \u001b[38;5;28;01mif\u001b[39;00m(x\u001b[38;5;241m>\u001b[39m\u001b[38;5;241m=\u001b[39m\u001b[38;5;241m0\u001b[39m \u001b[38;5;129;01mand\u001b[39;00m x\u001b[38;5;241m<\u001b[39m\u001b[38;5;241m=\u001b[39mw\u001b[38;5;241m-\u001b[39m\u001b[38;5;241m1\u001b[39m) \u001b[38;5;129;01mand\u001b[39;00m (y\u001b[38;5;241m>\u001b[39m\u001b[38;5;241m0\u001b[39m \u001b[38;5;129;01mand\u001b[39;00m y\u001b[38;5;241m<\u001b[39m\u001b[38;5;241m=\u001b[39mh\u001b[38;5;241m-\u001b[39m\u001b[38;5;241m1\u001b[39m):\n\u001b[1;32m     11\u001b[0m                 marked_ob_pixels\u001b[38;5;241m.\u001b[39mappend((y,x))\n",
      "\u001b[0;31mNameError\u001b[0m: name 'mode' is not defined"
     ]
    },
    {
     "ename": "NameError",
     "evalue": "name 'mode' is not defined",
     "output_type": "error",
     "traceback": [
      "\u001b[0;31m---------------------------------------------------------------------------\u001b[0m",
      "\u001b[0;31mNameError\u001b[0m                                 Traceback (most recent call last)",
      "Cell \u001b[0;32mIn[23], line 9\u001b[0m, in \u001b[0;36mmark_seeds\u001b[0;34m(event, x, y, flags, param)\u001b[0m\n\u001b[1;32m      7\u001b[0m \u001b[38;5;28;01melif\u001b[39;00m event \u001b[38;5;241m==\u001b[39m cv2\u001b[38;5;241m.\u001b[39mEVENT_MOUSEMOVE:\n\u001b[1;32m      8\u001b[0m     \u001b[38;5;28;01mif\u001b[39;00m drawing \u001b[38;5;241m==\u001b[39m \u001b[38;5;28;01mTrue\u001b[39;00m:\n\u001b[0;32m----> 9\u001b[0m         \u001b[38;5;28;01mif\u001b[39;00m \u001b[43mmode\u001b[49m \u001b[38;5;241m==\u001b[39m \u001b[38;5;124m\"\u001b[39m\u001b[38;5;124mob\u001b[39m\u001b[38;5;124m\"\u001b[39m:\n\u001b[1;32m     10\u001b[0m             \u001b[38;5;28;01mif\u001b[39;00m(x\u001b[38;5;241m>\u001b[39m\u001b[38;5;241m=\u001b[39m\u001b[38;5;241m0\u001b[39m \u001b[38;5;129;01mand\u001b[39;00m x\u001b[38;5;241m<\u001b[39m\u001b[38;5;241m=\u001b[39mw\u001b[38;5;241m-\u001b[39m\u001b[38;5;241m1\u001b[39m) \u001b[38;5;129;01mand\u001b[39;00m (y\u001b[38;5;241m>\u001b[39m\u001b[38;5;241m0\u001b[39m \u001b[38;5;129;01mand\u001b[39;00m y\u001b[38;5;241m<\u001b[39m\u001b[38;5;241m=\u001b[39mh\u001b[38;5;241m-\u001b[39m\u001b[38;5;241m1\u001b[39m):\n\u001b[1;32m     11\u001b[0m                 marked_ob_pixels\u001b[38;5;241m.\u001b[39mappend((y,x))\n",
      "\u001b[0;31mNameError\u001b[0m: name 'mode' is not defined"
     ]
    },
    {
     "ename": "NameError",
     "evalue": "name 'mode' is not defined",
     "output_type": "error",
     "traceback": [
      "\u001b[0;31m---------------------------------------------------------------------------\u001b[0m",
      "\u001b[0;31mNameError\u001b[0m                                 Traceback (most recent call last)",
      "Cell \u001b[0;32mIn[23], line 9\u001b[0m, in \u001b[0;36mmark_seeds\u001b[0;34m(event, x, y, flags, param)\u001b[0m\n\u001b[1;32m      7\u001b[0m \u001b[38;5;28;01melif\u001b[39;00m event \u001b[38;5;241m==\u001b[39m cv2\u001b[38;5;241m.\u001b[39mEVENT_MOUSEMOVE:\n\u001b[1;32m      8\u001b[0m     \u001b[38;5;28;01mif\u001b[39;00m drawing \u001b[38;5;241m==\u001b[39m \u001b[38;5;28;01mTrue\u001b[39;00m:\n\u001b[0;32m----> 9\u001b[0m         \u001b[38;5;28;01mif\u001b[39;00m \u001b[43mmode\u001b[49m \u001b[38;5;241m==\u001b[39m \u001b[38;5;124m\"\u001b[39m\u001b[38;5;124mob\u001b[39m\u001b[38;5;124m\"\u001b[39m:\n\u001b[1;32m     10\u001b[0m             \u001b[38;5;28;01mif\u001b[39;00m(x\u001b[38;5;241m>\u001b[39m\u001b[38;5;241m=\u001b[39m\u001b[38;5;241m0\u001b[39m \u001b[38;5;129;01mand\u001b[39;00m x\u001b[38;5;241m<\u001b[39m\u001b[38;5;241m=\u001b[39mw\u001b[38;5;241m-\u001b[39m\u001b[38;5;241m1\u001b[39m) \u001b[38;5;129;01mand\u001b[39;00m (y\u001b[38;5;241m>\u001b[39m\u001b[38;5;241m0\u001b[39m \u001b[38;5;129;01mand\u001b[39;00m y\u001b[38;5;241m<\u001b[39m\u001b[38;5;241m=\u001b[39mh\u001b[38;5;241m-\u001b[39m\u001b[38;5;241m1\u001b[39m):\n\u001b[1;32m     11\u001b[0m                 marked_ob_pixels\u001b[38;5;241m.\u001b[39mappend((y,x))\n",
      "\u001b[0;31mNameError\u001b[0m: name 'mode' is not defined"
     ]
    },
    {
     "ename": "NameError",
     "evalue": "name 'mode' is not defined",
     "output_type": "error",
     "traceback": [
      "\u001b[0;31m---------------------------------------------------------------------------\u001b[0m",
      "\u001b[0;31mNameError\u001b[0m                                 Traceback (most recent call last)",
      "Cell \u001b[0;32mIn[23], line 9\u001b[0m, in \u001b[0;36mmark_seeds\u001b[0;34m(event, x, y, flags, param)\u001b[0m\n\u001b[1;32m      7\u001b[0m \u001b[38;5;28;01melif\u001b[39;00m event \u001b[38;5;241m==\u001b[39m cv2\u001b[38;5;241m.\u001b[39mEVENT_MOUSEMOVE:\n\u001b[1;32m      8\u001b[0m     \u001b[38;5;28;01mif\u001b[39;00m drawing \u001b[38;5;241m==\u001b[39m \u001b[38;5;28;01mTrue\u001b[39;00m:\n\u001b[0;32m----> 9\u001b[0m         \u001b[38;5;28;01mif\u001b[39;00m \u001b[43mmode\u001b[49m \u001b[38;5;241m==\u001b[39m \u001b[38;5;124m\"\u001b[39m\u001b[38;5;124mob\u001b[39m\u001b[38;5;124m\"\u001b[39m:\n\u001b[1;32m     10\u001b[0m             \u001b[38;5;28;01mif\u001b[39;00m(x\u001b[38;5;241m>\u001b[39m\u001b[38;5;241m=\u001b[39m\u001b[38;5;241m0\u001b[39m \u001b[38;5;129;01mand\u001b[39;00m x\u001b[38;5;241m<\u001b[39m\u001b[38;5;241m=\u001b[39mw\u001b[38;5;241m-\u001b[39m\u001b[38;5;241m1\u001b[39m) \u001b[38;5;129;01mand\u001b[39;00m (y\u001b[38;5;241m>\u001b[39m\u001b[38;5;241m0\u001b[39m \u001b[38;5;129;01mand\u001b[39;00m y\u001b[38;5;241m<\u001b[39m\u001b[38;5;241m=\u001b[39mh\u001b[38;5;241m-\u001b[39m\u001b[38;5;241m1\u001b[39m):\n\u001b[1;32m     11\u001b[0m                 marked_ob_pixels\u001b[38;5;241m.\u001b[39mappend((y,x))\n",
      "\u001b[0;31mNameError\u001b[0m: name 'mode' is not defined"
     ]
    },
    {
     "ename": "NameError",
     "evalue": "name 'mode' is not defined",
     "output_type": "error",
     "traceback": [
      "\u001b[0;31m---------------------------------------------------------------------------\u001b[0m",
      "\u001b[0;31mNameError\u001b[0m                                 Traceback (most recent call last)",
      "Cell \u001b[0;32mIn[23], line 9\u001b[0m, in \u001b[0;36mmark_seeds\u001b[0;34m(event, x, y, flags, param)\u001b[0m\n\u001b[1;32m      7\u001b[0m \u001b[38;5;28;01melif\u001b[39;00m event \u001b[38;5;241m==\u001b[39m cv2\u001b[38;5;241m.\u001b[39mEVENT_MOUSEMOVE:\n\u001b[1;32m      8\u001b[0m     \u001b[38;5;28;01mif\u001b[39;00m drawing \u001b[38;5;241m==\u001b[39m \u001b[38;5;28;01mTrue\u001b[39;00m:\n\u001b[0;32m----> 9\u001b[0m         \u001b[38;5;28;01mif\u001b[39;00m \u001b[43mmode\u001b[49m \u001b[38;5;241m==\u001b[39m \u001b[38;5;124m\"\u001b[39m\u001b[38;5;124mob\u001b[39m\u001b[38;5;124m\"\u001b[39m:\n\u001b[1;32m     10\u001b[0m             \u001b[38;5;28;01mif\u001b[39;00m(x\u001b[38;5;241m>\u001b[39m\u001b[38;5;241m=\u001b[39m\u001b[38;5;241m0\u001b[39m \u001b[38;5;129;01mand\u001b[39;00m x\u001b[38;5;241m<\u001b[39m\u001b[38;5;241m=\u001b[39mw\u001b[38;5;241m-\u001b[39m\u001b[38;5;241m1\u001b[39m) \u001b[38;5;129;01mand\u001b[39;00m (y\u001b[38;5;241m>\u001b[39m\u001b[38;5;241m0\u001b[39m \u001b[38;5;129;01mand\u001b[39;00m y\u001b[38;5;241m<\u001b[39m\u001b[38;5;241m=\u001b[39mh\u001b[38;5;241m-\u001b[39m\u001b[38;5;241m1\u001b[39m):\n\u001b[1;32m     11\u001b[0m                 marked_ob_pixels\u001b[38;5;241m.\u001b[39mappend((y,x))\n",
      "\u001b[0;31mNameError\u001b[0m: name 'mode' is not defined"
     ]
    },
    {
     "ename": "NameError",
     "evalue": "name 'mode' is not defined",
     "output_type": "error",
     "traceback": [
      "\u001b[0;31m---------------------------------------------------------------------------\u001b[0m",
      "\u001b[0;31mNameError\u001b[0m                                 Traceback (most recent call last)",
      "Cell \u001b[0;32mIn[23], line 9\u001b[0m, in \u001b[0;36mmark_seeds\u001b[0;34m(event, x, y, flags, param)\u001b[0m\n\u001b[1;32m      7\u001b[0m \u001b[38;5;28;01melif\u001b[39;00m event \u001b[38;5;241m==\u001b[39m cv2\u001b[38;5;241m.\u001b[39mEVENT_MOUSEMOVE:\n\u001b[1;32m      8\u001b[0m     \u001b[38;5;28;01mif\u001b[39;00m drawing \u001b[38;5;241m==\u001b[39m \u001b[38;5;28;01mTrue\u001b[39;00m:\n\u001b[0;32m----> 9\u001b[0m         \u001b[38;5;28;01mif\u001b[39;00m \u001b[43mmode\u001b[49m \u001b[38;5;241m==\u001b[39m \u001b[38;5;124m\"\u001b[39m\u001b[38;5;124mob\u001b[39m\u001b[38;5;124m\"\u001b[39m:\n\u001b[1;32m     10\u001b[0m             \u001b[38;5;28;01mif\u001b[39;00m(x\u001b[38;5;241m>\u001b[39m\u001b[38;5;241m=\u001b[39m\u001b[38;5;241m0\u001b[39m \u001b[38;5;129;01mand\u001b[39;00m x\u001b[38;5;241m<\u001b[39m\u001b[38;5;241m=\u001b[39mw\u001b[38;5;241m-\u001b[39m\u001b[38;5;241m1\u001b[39m) \u001b[38;5;129;01mand\u001b[39;00m (y\u001b[38;5;241m>\u001b[39m\u001b[38;5;241m0\u001b[39m \u001b[38;5;129;01mand\u001b[39;00m y\u001b[38;5;241m<\u001b[39m\u001b[38;5;241m=\u001b[39mh\u001b[38;5;241m-\u001b[39m\u001b[38;5;241m1\u001b[39m):\n\u001b[1;32m     11\u001b[0m                 marked_ob_pixels\u001b[38;5;241m.\u001b[39mappend((y,x))\n",
      "\u001b[0;31mNameError\u001b[0m: name 'mode' is not defined"
     ]
    },
    {
     "ename": "NameError",
     "evalue": "name 'mode' is not defined",
     "output_type": "error",
     "traceback": [
      "\u001b[0;31m---------------------------------------------------------------------------\u001b[0m",
      "\u001b[0;31mNameError\u001b[0m                                 Traceback (most recent call last)",
      "Cell \u001b[0;32mIn[23], line 9\u001b[0m, in \u001b[0;36mmark_seeds\u001b[0;34m(event, x, y, flags, param)\u001b[0m\n\u001b[1;32m      7\u001b[0m \u001b[38;5;28;01melif\u001b[39;00m event \u001b[38;5;241m==\u001b[39m cv2\u001b[38;5;241m.\u001b[39mEVENT_MOUSEMOVE:\n\u001b[1;32m      8\u001b[0m     \u001b[38;5;28;01mif\u001b[39;00m drawing \u001b[38;5;241m==\u001b[39m \u001b[38;5;28;01mTrue\u001b[39;00m:\n\u001b[0;32m----> 9\u001b[0m         \u001b[38;5;28;01mif\u001b[39;00m \u001b[43mmode\u001b[49m \u001b[38;5;241m==\u001b[39m \u001b[38;5;124m\"\u001b[39m\u001b[38;5;124mob\u001b[39m\u001b[38;5;124m\"\u001b[39m:\n\u001b[1;32m     10\u001b[0m             \u001b[38;5;28;01mif\u001b[39;00m(x\u001b[38;5;241m>\u001b[39m\u001b[38;5;241m=\u001b[39m\u001b[38;5;241m0\u001b[39m \u001b[38;5;129;01mand\u001b[39;00m x\u001b[38;5;241m<\u001b[39m\u001b[38;5;241m=\u001b[39mw\u001b[38;5;241m-\u001b[39m\u001b[38;5;241m1\u001b[39m) \u001b[38;5;129;01mand\u001b[39;00m (y\u001b[38;5;241m>\u001b[39m\u001b[38;5;241m0\u001b[39m \u001b[38;5;129;01mand\u001b[39;00m y\u001b[38;5;241m<\u001b[39m\u001b[38;5;241m=\u001b[39mh\u001b[38;5;241m-\u001b[39m\u001b[38;5;241m1\u001b[39m):\n\u001b[1;32m     11\u001b[0m                 marked_ob_pixels\u001b[38;5;241m.\u001b[39mappend((y,x))\n",
      "\u001b[0;31mNameError\u001b[0m: name 'mode' is not defined"
     ]
    },
    {
     "ename": "NameError",
     "evalue": "name 'mode' is not defined",
     "output_type": "error",
     "traceback": [
      "\u001b[0;31m---------------------------------------------------------------------------\u001b[0m",
      "\u001b[0;31mNameError\u001b[0m                                 Traceback (most recent call last)",
      "Cell \u001b[0;32mIn[23], line 19\u001b[0m, in \u001b[0;36mmark_seeds\u001b[0;34m(event, x, y, flags, param)\u001b[0m\n\u001b[1;32m     17\u001b[0m \u001b[38;5;28;01melif\u001b[39;00m event \u001b[38;5;241m==\u001b[39m cv2\u001b[38;5;241m.\u001b[39mEVENT_LBUTTONUP:\n\u001b[1;32m     18\u001b[0m     drawing \u001b[38;5;241m=\u001b[39m \u001b[38;5;28;01mFalse\u001b[39;00m\n\u001b[0;32m---> 19\u001b[0m     \u001b[38;5;28;01mif\u001b[39;00m \u001b[43mmode\u001b[49m \u001b[38;5;241m==\u001b[39m \u001b[38;5;124m\"\u001b[39m\u001b[38;5;124mob\u001b[39m\u001b[38;5;124m\"\u001b[39m:\n\u001b[1;32m     20\u001b[0m         cv2\u001b[38;5;241m.\u001b[39mline(I_dummy,(x\u001b[38;5;241m-\u001b[39m\u001b[38;5;241m3\u001b[39m,y),(x\u001b[38;5;241m+\u001b[39m\u001b[38;5;241m3\u001b[39m,y),(\u001b[38;5;241m0\u001b[39m,\u001b[38;5;241m0\u001b[39m,\u001b[38;5;241m255\u001b[39m))\n\u001b[1;32m     21\u001b[0m     \u001b[38;5;28;01melse\u001b[39;00m:\n",
      "\u001b[0;31mNameError\u001b[0m: name 'mode' is not defined"
     ]
    },
    {
     "ename": "KeyboardInterrupt",
     "evalue": "",
     "output_type": "error",
     "traceback": [
      "\u001b[0;31m---------------------------------------------------------------------------\u001b[0m",
      "\u001b[0;31mKeyboardInterrupt\u001b[0m                         Traceback (most recent call last)",
      "Cell \u001b[0;32mIn[32], line 5\u001b[0m\n\u001b[1;32m      3\u001b[0m \u001b[38;5;28;01mwhile\u001b[39;00m(\u001b[38;5;241m1\u001b[39m):\n\u001b[1;32m      4\u001b[0m     cv2\u001b[38;5;241m.\u001b[39mimshow(\u001b[38;5;124m'\u001b[39m\u001b[38;5;124mMark the object and background\u001b[39m\u001b[38;5;124m'\u001b[39m,I_dummy)\n\u001b[0;32m----> 5\u001b[0m     k \u001b[38;5;241m=\u001b[39m \u001b[43mcv2\u001b[49m\u001b[38;5;241;43m.\u001b[39;49m\u001b[43mwaitKey\u001b[49m\u001b[43m(\u001b[49m\u001b[38;5;241;43m1\u001b[39;49m\u001b[43m)\u001b[49m \u001b[38;5;241m&\u001b[39m \u001b[38;5;241m0xFF\u001b[39m\n\u001b[1;32m      6\u001b[0m     \u001b[38;5;28;01mif\u001b[39;00m k \u001b[38;5;241m==\u001b[39m \u001b[38;5;28mord\u001b[39m(\u001b[38;5;124m'\u001b[39m\u001b[38;5;124mo\u001b[39m\u001b[38;5;124m'\u001b[39m):\n\u001b[1;32m      7\u001b[0m         mode \u001b[38;5;241m=\u001b[39m \u001b[38;5;124m\"\u001b[39m\u001b[38;5;124mob\u001b[39m\u001b[38;5;124m\"\u001b[39m\n",
      "\u001b[0;31mKeyboardInterrupt\u001b[0m: "
     ]
    },
    {
     "ename": "",
     "evalue": "",
     "output_type": "error",
     "traceback": [
      "\u001b[1;31mLe noyau s’est bloqué lors de l’exécution du code dans une cellule active ou une cellule précédente. \n",
      "\u001b[1;31mVeuillez vérifier le code dans la ou les cellules pour identifier une cause possible de l’échec. \n",
      "\u001b[1;31mCliquez <a href='https://aka.ms/vscodeJupyterKernelCrash'>ici</a> pour plus d’informations. \n",
      "\u001b[1;31mPour plus d’informations, consultez Jupyter <a href='command:jupyter.viewOutput'>log</a>."
     ]
    }
   ],
   "source": [
    "cv2.namedWindow('Mark the object and background')\n",
    "cv2.setMouseCallback('Mark the object and background',mark_seeds)\n",
    "while(1):\n",
    "    cv2.imshow('Mark the object and background',I_dummy)\n",
    "    k = cv2.waitKey(1) & 0xFF\n",
    "    if k == ord('o'):\n",
    "        mode = \"ob\"\n",
    "    elif k == ord('b'):\n",
    "        mode = \"bg\"\n",
    "    elif k == 27:\n",
    "        break\n",
    "cv2.destroyAllWindows()"
   ]
  }
 ],
 "metadata": {
  "kernelspec": {
   "display_name": "Python 3",
   "language": "python",
   "name": "python3"
  },
  "language_info": {
   "codemirror_mode": {
    "name": "ipython",
    "version": 3
   },
   "file_extension": ".py",
   "mimetype": "text/x-python",
   "name": "python",
   "nbconvert_exporter": "python",
   "pygments_lexer": "ipython3",
   "version": "3.11.5"
  }
 },
 "nbformat": 4,
 "nbformat_minor": 2
}
